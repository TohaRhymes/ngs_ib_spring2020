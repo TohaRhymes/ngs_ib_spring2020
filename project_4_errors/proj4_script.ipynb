{
 "cells": [
  {
   "cell_type": "markdown",
   "metadata": {},
   "source": [
    "# hw4. Оценка качества исправления ошибок\n"
   ]
  },
  {
   "cell_type": "markdown",
   "metadata": {},
   "source": [
    "### 1. Trimmomatic (просто режет) \n",
    "Запуск:\n",
    "\n",
    "``$ TrimmomaticPE -phred33 data/4/ecoli_400K_err_1.fastq data/4/ecoli_400K_err_2.fastq -baseout /home/toharhymes/work/ngs_ib_spring2020/project_four_errors/data/4/trimm_ecoli_400K LEADING:20 TRAILING:20  SLIDINGWINDOW:10:20 MINLEN:20``\n",
    "\n",
    "Далее будем использовать только `trimm_ecoli_400K_1P` и `trimm_ecoli_400K_2P` (так как они у обоих ок).\n",
    "\n",
    "Проиндексируем референс:\n",
    "\n",
    "``$ bwa index data/4/MG1655-K12.first400K.fasta``\n",
    "\n",
    "Выровняем скорректированные риды, и риды с ошибками:<br>\n",
    "``$ bwa mem data/4/MG1655-K12.first400K.fasta data/4/trimm_ecoli_400K_1P data/4/trimm_ecoli_400K_2P > data/4/alignment_correct.sam`` <br>\n",
    "``$ samtools flagstat data/4/alignment_correct.sam \n",
    "2689072 + 0 in total (QC-passed reads + QC-failed reads)\n",
    "0 + 0 secondary\n",
    "0 + 0 supplementary\n",
    "0 + 0 duplicates\n",
    "2687824 + 0 mapped (99.95% : N/A)\n",
    "2689072 + 0 paired in sequencing\n",
    "1344536 + 0 read1\n",
    "1344536 + 0 read2\n",
    "2685506 + 0 properly paired (99.87% : N/A)\n",
    "2686782 + 0 with itself and mate mapped\n",
    "1042 + 0 singletons (0.04% : N/A)\n",
    "0 + 0 with mate mapped to a different chr\n",
    "0 + 0 with mate mapped to a different chr (mapQ>=5)``\n",
    "\n",
    "\n",
    "\n",
    "``$ bwa mem data/4/MG1655-K12.first400K.fasta data/4/ecoli_400K_err_1.fastq data/4/ecoli_400K_err_2.fastq > data/4/alignment_error.sam ``<br>\n",
    "``$ samtools flagstat data/4/alignment_error.sam \n",
    "2763204 + 0 in total (QC-passed reads + QC-failed reads)\n",
    "0 + 0 secondary\n",
    "0 + 0 supplementary\n",
    "0 + 0 duplicates\n",
    "2762617 + 0 mapped (99.98% : N/A)\n",
    "2763204 + 0 paired in sequencing\n",
    "1381602 + 0 read1\n",
    "1381602 + 0 read2\n",
    "2760820 + 0 properly paired (99.91% : N/A)\n",
    "2762132 + 0 with itself and mate mapped\n",
    "485 + 0 singletons (0.02% : N/A)\n",
    "0 + 0 with mate mapped to a different chr\n",
    "0 + 0 with mate mapped to a different chr (mapQ>=5)\n",
    "``"
   ]
  },
  {
   "cell_type": "markdown",
   "metadata": {},
   "source": [
    "### 2. Spades (BayesHammer)\n",
    "\n",
    "``$ spades --only-error-correction --pe1-1 data/4/ecoli_400K_err_1.fastq.gz --pe1-2 data/4/ecoli_400K_err_2.fastq.gz -o data/4/corrected_spades``\n",
    "\n",
    "``$ bwa mem data/4/MG1655-K12.first400K.fasta data/4/corrected_spades/corrected/ecoli_400K_err_1.fastq.00.0_0.cor.fastq.gz data/4/corrected_spades/corrected/ecoli_400K_err_2.fastq.00.0_0.cor.fastq.gz > data/4/corrected_alignment_spades.sam\n",
    "``\n",
    "\n",
    "``$ samtools flagstat data/4/corrected_alignment_spades.sam ``\n",
    "\n",
    "``\n",
    "2716054 + 0 in total (QC-passed reads + QC-failed reads)\n",
    "0 + 0 secondary\n",
    "0 + 0 supplementary\n",
    "0 + 0 duplicates\n",
    "2715944 + 0 mapped (100.00% : N/A)\n",
    "2716054 + 0 paired in sequencing\n",
    "1358027 + 0 read1\n",
    "1358027 + 0 read2\n",
    "2714586 + 0 properly paired (99.95% : N/A)\n",
    "2715876 + 0 with itself and mate mapped\n",
    "68 + 0 singletons (0.00% : N/A)\n",
    "0 + 0 with mate mapped to a different chr\n",
    "0 + 0 with mate mapped to a different chr (mapQ>=\n",
    "``"
   ]
  },
  {
   "cell_type": "code",
   "execution_count": 3,
   "metadata": {},
   "outputs": [],
   "source": [
    "import pysam\n",
    "import numpy as np\n",
    "import pandas as pd"
   ]
  },
  {
   "cell_type": "code",
   "execution_count": 23,
   "metadata": {},
   "outputs": [],
   "source": [
    "# возвращает словарь: индекс в референсе - значение(буква) в последовательности для рида\n",
    "def reference_read_mapping(read):\n",
    "    mapping_dict = {}\n",
    "#     print(read.get_aligned_pairs(matches_only=False))\n",
    "    for read_i, ref_i in read.get_aligned_pairs():\n",
    "        mapping_dict.update({ref_i: None if read_i is None else read.query_sequence[read_i]})\n",
    "    return mapping_dict\n",
    "\n",
    "# возвращает словарь: индекс в референсе - значение(буква) в референсе\n",
    "def reference_mapping(read):\n",
    "    mapping_dict = {}\n",
    "    for read_i, ref_i, ref_l in read.get_aligned_pairs(with_seq = True):\n",
    "        mapping_dict.update({ref_i: ref_l})\n",
    "    return mapping_dict\n",
    "\n",
    "\n",
    "def count(correct_sam_file, raw_sam_file):\n",
    "    cor_sam = pysam.AlignmentFile(correct_sam_file, \"r\")\n",
    "    raw_sam = pysam.AlignmentFile(raw_sam_file, \"r\")\n",
    "    flag = True\n",
    "    answer = np.zeros((2,3), dtype=int)\n",
    "    try:\n",
    "        while flag:\n",
    "            cor_read = next(cor_sam)\n",
    "            raw_read = next(raw_sam)\n",
    "            if not cor_read.is_unmapped and not raw_read.is_unmapped and not  cor_read.is_supplementary and not raw_read.is_supplementary:\n",
    "                while cor_read.query_name != raw_read.query_name:\n",
    "#                     for pair in raw_read.get_aligned_pairs():\n",
    "#                         if pair[0] != None and pair[1] != None:\n",
    "#                             # Incorrectly removed base - убрал, а не должен был - сырой смапился \n",
    "#                             answer[1][2] += 1\n",
    "#                         else:\n",
    "#                             # Correctly remove base - убрал правильно, так как не мапился, или мапился неверно\n",
    "#                             answer[0][2] += 1   \n",
    "                    raw_read = next(raw_sam)\n",
    "    \n",
    "                # индекс в референсе : буква (или None) в скорректированном риде\n",
    "                cor_mapping = reference_read_mapping(cor_read)\n",
    "                # индекс в референсе : буква (или None) в нескорректированном риде\n",
    "                raw_mapping = reference_read_mapping(raw_read)\n",
    "                # индекс в референсе : буква (или None) в референсе\n",
    "                ref_mapping = reference_mapping(cor_read)\n",
    "                \n",
    "                for index in cor_mapping:\n",
    "                    cor = cor_mapping[index]\n",
    "                    raw = raw_mapping[index] if index in raw_mapping else None\n",
    "                    ref = ref_mapping[index] if index in ref_mapping else None\n",
    "                    # if base is absent in corrected=> the third column(index = 2):\n",
    "                    if cor == 'N':\n",
    "                        answer[int(raw == ref)][2] += 1\n",
    "                        continue\n",
    "                    answer[int(raw==ref)][int(cor == ref)] += 1\n",
    "        \n",
    "    except StopIteration:\n",
    "        return pd.DataFrame(answer, columns = ['Error in corrected reads','Correct base in corrected reads', 'Base is absent in corrected reads'], index = ['Error in raw data', 'Correct base in raw data'])\n",
    "    "
   ]
  },
  {
   "cell_type": "markdown",
   "metadata": {},
   "source": [
    "### Trimmomatic"
   ]
  },
  {
   "cell_type": "code",
   "execution_count": 26,
   "metadata": {},
   "outputs": [
    {
     "data": {
      "text/html": [
       "<div>\n",
       "<style scoped>\n",
       "    .dataframe tbody tr th:only-of-type {\n",
       "        vertical-align: middle;\n",
       "    }\n",
       "\n",
       "    .dataframe tbody tr th {\n",
       "        vertical-align: top;\n",
       "    }\n",
       "\n",
       "    .dataframe thead th {\n",
       "        text-align: right;\n",
       "    }\n",
       "</style>\n",
       "<table border=\"1\" class=\"dataframe\">\n",
       "  <thead>\n",
       "    <tr style=\"text-align: right;\">\n",
       "      <th></th>\n",
       "      <th>Error in corrected reads</th>\n",
       "      <th>Correct base in corrected reads</th>\n",
       "      <th>Base is absent in corrected reads</th>\n",
       "    </tr>\n",
       "  </thead>\n",
       "  <tbody>\n",
       "    <tr>\n",
       "      <th>Error in raw data</th>\n",
       "      <td>791466</td>\n",
       "      <td>1962606</td>\n",
       "      <td>137091</td>\n",
       "    </tr>\n",
       "    <tr>\n",
       "      <th>Correct base in raw data</th>\n",
       "      <td>5353</td>\n",
       "      <td>241117011</td>\n",
       "      <td>8</td>\n",
       "    </tr>\n",
       "  </tbody>\n",
       "</table>\n",
       "</div>"
      ],
      "text/plain": [
       "                          Error in corrected reads  \\\n",
       "Error in raw data                           791466   \n",
       "Correct base in raw data                      5353   \n",
       "\n",
       "                          Correct base in corrected reads  \\\n",
       "Error in raw data                                 1962606   \n",
       "Correct base in raw data                        241117011   \n",
       "\n",
       "                          Base is absent in corrected reads  \n",
       "Error in raw data                                    137091  \n",
       "Correct base in raw data                                  8  "
      ]
     },
     "execution_count": 26,
     "metadata": {},
     "output_type": "execute_result"
    }
   ],
   "source": [
    "count('data/4/alignment_correct.sam', 'data/4/alignment_error.sam')"
   ]
  },
  {
   "cell_type": "code",
   "execution_count": 27,
   "metadata": {},
   "outputs": [
    {
     "data": {
      "text/html": [
       "<div>\n",
       "<style scoped>\n",
       "    .dataframe tbody tr th:only-of-type {\n",
       "        vertical-align: middle;\n",
       "    }\n",
       "\n",
       "    .dataframe tbody tr th {\n",
       "        vertical-align: top;\n",
       "    }\n",
       "\n",
       "    .dataframe thead th {\n",
       "        text-align: right;\n",
       "    }\n",
       "</style>\n",
       "<table border=\"1\" class=\"dataframe\">\n",
       "  <thead>\n",
       "    <tr style=\"text-align: right;\">\n",
       "      <th></th>\n",
       "      <th>Error in corrected reads</th>\n",
       "      <th>Correct base in corrected reads</th>\n",
       "      <th>Base is absent in corrected reads</th>\n",
       "    </tr>\n",
       "  </thead>\n",
       "  <tbody>\n",
       "    <tr>\n",
       "      <th>Error in raw data</th>\n",
       "      <td>235309</td>\n",
       "      <td>2894143</td>\n",
       "      <td>726431</td>\n",
       "    </tr>\n",
       "    <tr>\n",
       "      <th>Correct base in raw data</th>\n",
       "      <td>8306</td>\n",
       "      <td>246936100</td>\n",
       "      <td>617366</td>\n",
       "    </tr>\n",
       "  </tbody>\n",
       "</table>\n",
       "</div>"
      ],
      "text/plain": [
       "                          Error in corrected reads  \\\n",
       "Error in raw data                           235309   \n",
       "Correct base in raw data                      8306   \n",
       "\n",
       "                          Correct base in corrected reads  \\\n",
       "Error in raw data                                 2894143   \n",
       "Correct base in raw data                        246936100   \n",
       "\n",
       "                          Base is absent in corrected reads  \n",
       "Error in raw data                                    726431  \n",
       "Correct base in raw data                             617366  "
      ]
     },
     "execution_count": 27,
     "metadata": {},
     "output_type": "execute_result"
    }
   ],
   "source": [
    "count('data/4/corrected_alignment_spades.sam', 'data/4/alignment_error.sam')"
   ]
  },
  {
   "cell_type": "markdown",
   "metadata": {},
   "source": [
    "#### Как делал:\n",
    "\n",
    "По индексу в референсе составил три словаря: индекс - буква в референсе, индекс - буква в неисправленном риде, индекс - буква в исправленном риде, дальше по ним итерировался и искал такие ошибки:\n",
    "\n",
    "![](table.png)"
   ]
  },
  {
   "cell_type": "markdown",
   "metadata": {},
   "source": [
    "0я строка - неисправленный != референсу, а 1я строка неисправленный равен референсу, поэтому строка это условие `ref==raw`. Со столбцами аналогично. в 0м скорректированный не равен референсу (у нас ошибка), а в первом равен, поэтому условие: `cor -- ref`. Ну а если основания нету в исправленном (== 'N'), то это третий столбец"
   ]
  },
  {
   "cell_type": "code",
   "execution_count": null,
   "metadata": {},
   "outputs": [],
   "source": []
  }
 ],
 "metadata": {
  "kernelspec": {
   "display_name": "Python 3",
   "language": "python",
   "name": "python3"
  },
  "language_info": {
   "codemirror_mode": {
    "name": "ipython",
    "version": 3
   },
   "file_extension": ".py",
   "mimetype": "text/x-python",
   "name": "python",
   "nbconvert_exporter": "python",
   "pygments_lexer": "ipython3",
   "version": "3.7.6"
  }
 },
 "nbformat": 4,
 "nbformat_minor": 4
}
