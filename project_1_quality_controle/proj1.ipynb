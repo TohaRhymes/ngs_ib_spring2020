{
 "cells": [
  {
   "cell_type": "markdown",
   "metadata": {},
   "source": [
    "# Обработка FASTQ - файлов."
   ]
  },
  {
   "cell_type": "code",
   "execution_count": 1,
   "metadata": {},
   "outputs": [],
   "source": [
    "from Bio import SeqIO, SeqUtils\n",
    "import numpy as np\n",
    "import matplotlib.pyplot as plt\n",
    "import matplotlib"
   ]
  },
  {
   "cell_type": "markdown",
   "metadata": {},
   "source": [
    "## Чтение из файла\n",
    "Будем читать риды из fasqt файла. Причем для улучшения результата добавим в программу следующие фичи:\n",
    "* Не учитывать нуклеотиды с плохим качеством (за это отвечает параметр `min_perc_qual`)\n",
    "* Не учитывать риды, в которых мало хороших нуклеотидов (за это отвечает параметр `min_percentage_of_good_ac`).\n",
    "\n",
    "Код достаточно понятен:\n",
    "* читаем файл по риду, считаем матрицу качеств нуклеотидов по формуле из википедии (перевод из score в probability)): \n",
    "![](q_prob.png)\n",
    "* проверяем среднее качество рида, и учитываем только хорошие (см. далее, как работает)\n",
    "* если ок, то запоминаем его gc-контент и качество.\n",
    "* затем считаем сренее качество для рида.\n",
    "\n",
    "УСЕ!\n"
   ]
  },
  {
   "cell_type": "code",
   "execution_count": 3,
   "metadata": {},
   "outputs": [],
   "source": [
    "def read_and_count_fastq(filename):\n",
    "#     seq - риды\n",
    "#     phred_qual - качество ридов (phred_qual[i] - качество для i-го рида из seq )\n",
    "#     gc_content - gc-контент i-го рида из seq\n",
    "#     avg_qual - среднее качество на i-ю букву\n",
    "#     min_perc_qual - минимальное качество (в процентах), меньше которого не стоит верить\n",
    "#     min_percentage_of_good_ac - минимальный процент, аминокислот с хорошим качеством, для которого можно считать, что весь рид - хороший\n",
    "#\n",
    "    phred_qual = [[]]\n",
    "    gc_content = []\n",
    "    avg_qual = []\n",
    "    min_perc_qual = 0.75\n",
    "    min_percentage_of_good_ac = 0.4\n",
    "    jj=0\n",
    "    for record in SeqIO.parse(filename, \"fastq\"):\n",
    "        cur_seq = str(record.seq)\n",
    "        cur_qual = np.array(record.letter_annotations[\"phred_quality\"])-31\n",
    "        cur_qual = 1 - (10 ** ((-cur_qual)/10))\n",
    "        if jj%10000 ==0:\n",
    "            print(jj, end = ' ')\n",
    "        if check_read_qual(cur_qual, min_perc_qual, min_percentage_of_good_ac):\n",
    "            gc_content.append(count_gc_content(cur_seq, cur_qual, min_perc_qual ))\n",
    "            while len(phred_qual) < len(cur_seq):\n",
    "                phred_qual.append([])\n",
    "            for i in range(len(phred_qual)):\n",
    "                phred_qual[i].append(cur_qual[i])\n",
    "        jj+=1\n",
    "    print('Finished parsing, averagening...')\n",
    "    jj=0\n",
    "    for q in phred_qual:\n",
    "        print(jj, end = ' ')\n",
    "        jj+=1\n",
    "        avg_qual.append(sum(q)/len(q))\n",
    "    print('Finished counting!')\n",
    "    return avg_qual, c_content\n"
   ]
  },
  {
   "cell_type": "markdown",
   "metadata": {},
   "source": [
    "Функция `check_read_qual` проверяет рид на \"хорошесть\" - если процент ридов, в которых качество меньше чем `min_qual`, меньше чем `min_percentage_of_good_ac`, иначе - хорош."
   ]
  },
  {
   "cell_type": "code",
   "execution_count": 4,
   "metadata": {},
   "outputs": [],
   "source": [
    "def check_read_qual(qual, min_qual = 0.8, min_percentage_of_good_ac = 0.5):\n",
    "    good_qual = [(1 if q >= min_qual else 0) for q in qual]\n",
    "    amount_of_good = np.sum(np.array(good_qual))\n",
    "    return True if amount_of_good/len(good_qual) >= min_percentage_of_good_ac else False"
   ]
  },
  {
   "cell_type": "markdown",
   "metadata": {},
   "source": [
    "функция `count_gc_content` считает gc-контент, но только для нуклеотидов с качеством больше `min_qual`"
   ]
  },
  {
   "cell_type": "code",
   "execution_count": 5,
   "metadata": {},
   "outputs": [],
   "source": [
    "def count_gc_content(seq, qual, min_qual = 0.8):\n",
    "    gc_amount = 0\n",
    "    all_amount = 0\n",
    "    for i in range(len(seq)):\n",
    "#       там еще есть буквы N - их соответственно считать не надо, поэтому сначала проверю, если буква - аминокислота\n",
    "        if qual[i] >= min_qual and (seq[i]=='A' or seq[i]=='T' or seq[i]=='G' or seq[i]=='C' or seq[i]=='U'):\n",
    "            all_amount+=1\n",
    "            if seq[i]=='G' or seq[i]=='C':\n",
    "                gc_amount+=1\n",
    "    return round(gc_amount/all_amount, 2)\n",
    "                "
   ]
  },
  {
   "cell_type": "markdown",
   "metadata": {},
   "source": [
    "Строим gc-контент и качество:"
   ]
  },
  {
   "cell_type": "code",
   "execution_count": 6,
   "metadata": {},
   "outputs": [],
   "source": [
    "def draw_gc_content(gc_cont):\n",
    "    gc_percentage = np.array([x/100 for x in range(101)])\n",
    "    gc_content = np.array(gc_cont)\n",
    "    number_of_reads = np.array([np.sum(gc_content==x/100) for x in range(101)])\n",
    "    \n",
    "    data = np.column_stack((gc_percentage, number_of_reads))\n",
    "\n",
    "    fig, (ax1) = plt.subplots(\n",
    "        nrows=1, ncols=1,\n",
    "        figsize=(10, 10)\n",
    "    )\n",
    "\n",
    "    ax1.scatter(x=gc_percentage, y=number_of_reads, marker='o', c='r', edgecolor='b')\n",
    "    ax1.set_title('Scatter: GC-content')\n",
    "    ax1.set_xlabel('gc percentage')\n",
    "    ax1.set_ylabel('number of reads')\n",
    "\n",
    "    plt.show()"
   ]
  },
  {
   "cell_type": "code",
   "execution_count": 7,
   "metadata": {},
   "outputs": [],
   "source": [
    "def draw_qual(qual):\n",
    "    position = np.array([x for x in range(len(qual))])\n",
    "    quality = np.array(qual)\n",
    "    \n",
    "    data = np.column_stack((position, quality))\n",
    "\n",
    "    fig, (ax1) = plt.subplots(\n",
    "        nrows=1, ncols=1,\n",
    "        figsize=(10, 10)\n",
    "    )\n",
    "\n",
    "    ax1.scatter(x=position, y=quality, marker='o', c='r', edgecolor='b')\n",
    "    ax1.set_title('Error probabilities across all bases')\n",
    "    ax1.set_xlabel('position in read')\n",
    "    ax1.set_ylabel('error probability')\n",
    "\n",
    "    plt.show()"
   ]
  },
  {
   "cell_type": "markdown",
   "metadata": {},
   "source": [
    "## Запуск и проверка\n",
    "Запустим наши функции на ридах, а затем запустим тоже самое в fastQC и проверим."
   ]
  },
  {
   "cell_type": "code",
   "execution_count": null,
   "metadata": {
    "scrolled": true
   },
   "outputs": [
    {
     "name": "stdout",
     "output_type": "stream",
     "text": [
      "0 10000 20000 30000 40000 50000 60000 70000 80000 90000 100000 110000 120000 130000 140000 150000 160000 170000 180000 190000 200000 210000 220000 230000 240000 250000 260000 270000 280000 290000 300000 310000 320000 330000 340000 350000 360000 370000 380000 390000 400000 410000 420000 430000 440000 450000 460000 470000 480000 490000 500000 510000 520000 530000 540000 550000 560000 570000 580000 590000 600000 610000 620000 630000 640000 650000 660000 670000 680000 690000 700000 710000 720000 730000 740000 750000 760000 770000 780000 790000 800000 810000 820000 830000 840000 850000 860000 870000 880000 890000 900000 910000 920000 930000 940000 950000 960000 970000 980000 990000 1000000 1010000 1020000 1030000 1040000 1050000 1060000 1070000 1080000 1090000 1100000 1110000 1120000 1130000 1140000 1150000 1160000 1170000 1180000 1190000 1200000 1210000 1220000 1230000 1240000 1250000 1260000 1270000 1280000 1290000 1300000 1310000 1320000 1330000 1340000 1350000 1360000 1370000 1380000 1390000 1400000 1410000 1420000 1430000 1440000 1450000 1460000 1470000 1480000 1490000 1500000 1510000 1520000 1530000 1540000 1550000 1560000 1570000 1580000 1590000 1600000 1610000 1620000 1630000 1640000 1650000 1660000 1670000 1680000 1690000 1700000 1710000 "
     ]
    }
   ],
   "source": [
    "qual, gc_content = read_and_count_fastq('data/frag.R1.fastq')\n",
    "print('Drawing...')\n",
    "# qual, seq, gc_content = read_and_count_fastq('data/ttt.fastq')\n",
    "draw_gc_content(gc_content)\n",
    "draw_qual(qual)"
   ]
  },
  {
   "cell_type": "markdown",
   "metadata": {},
   "source": [
    "Посмотрим, что дает FastQC:\n",
    "![](R1_gc.png)\n",
    "![](R1_qual.png)\n",
    "GC-контент получился супер. Error probability вроде тоже ок. (фасткц не рисует именно то, что я рисовал)"
   ]
  },
  {
   "cell_type": "code",
   "execution_count": null,
   "metadata": {
    "scrolled": true
   },
   "outputs": [],
   "source": [
    "qual, seq, gc_content = read_and_count_fastq('data/frag.R2.fastq')\n",
    "# qual, seq, gc_content = read_and_count_fastq('data/ttt.fastq')\n",
    "draw_gc_content(gc_content)\n",
    "draw_qual(qual)"
   ]
  },
  {
   "cell_type": "markdown",
   "metadata": {},
   "source": [
    "Посмотрим, что дает FastQC:\n",
    "![](R2_gc.png)\n",
    "![](R2_qual.png)\n",
    "GC-контент получился супер. Error probability вроде тоже ок. (фасткц не рисует именно то, что я рисовал)"
   ]
  },
  {
   "cell_type": "markdown",
   "metadata": {},
   "source": [
    "УРА!"
   ]
  }
 ],
 "metadata": {
  "kernelspec": {
   "display_name": "Python 3",
   "language": "python",
   "name": "python3"
  },
  "language_info": {
   "codemirror_mode": {
    "name": "ipython",
    "version": 3
   },
   "file_extension": ".py",
   "mimetype": "text/x-python",
   "name": "python",
   "nbconvert_exporter": "python",
   "pygments_lexer": "ipython3",
   "version": "3.7.6"
  }
 },
 "nbformat": 4,
 "nbformat_minor": 2
}
