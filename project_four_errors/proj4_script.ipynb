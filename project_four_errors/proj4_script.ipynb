{
 "cells": [
  {
   "cell_type": "markdown",
   "metadata": {},
   "source": [
    "# hw4. Оценка качества исправления ошибок\n"
   ]
  },
  {
   "cell_type": "markdown",
   "metadata": {},
   "source": [
    "1. Посмотрим на Trimmomatic(тупо обрезает), запуще его так:\n",
    "\n",
    "``$ TrimmomaticPE -phred33 data/4/ecoli_400K_err_1.fastq data/4/ecoli_400K_err_2.fastq -baseout /home/toharhymes/work/ngs_ib_spring2020/project_four_errors/data/4/trimm_ecoli_400K LEADING:20 TRAILING:20  SLIDINGWINDOW:10:20 MINLEN:20``\n",
    "\n",
    "Далее будем использовать только `trimm_ecoli_400K_1P` и `trimm_ecoli_400K_2P` (так как они у обоих ок).\n",
    "\n",
    "Проиндексируем референс:\n",
    "\n",
    "``$ bwa index data/4/MG1655-K12.first400K.fasta``\n",
    "\n",
    "Выровняем скорректированные риды, и риды с ошибками:<br>\n",
    "``$ bwa mem data/4/MG1655-K12.first400K.fasta data/4/trimm_ecoli_400K_1P data/4/trimm_ecoli_400K_2P > data/4/alignment_correct.sam`` <br>\n",
    "``$ samtools flagstat data/4/alignment_correct.sam \n",
    "2689072 + 0 in total (QC-passed reads + QC-failed reads)\n",
    "0 + 0 secondary\n",
    "0 + 0 supplementary\n",
    "0 + 0 duplicates\n",
    "2687824 + 0 mapped (99.95% : N/A)\n",
    "2689072 + 0 paired in sequencing\n",
    "1344536 + 0 read1\n",
    "1344536 + 0 read2\n",
    "2685506 + 0 properly paired (99.87% : N/A)\n",
    "2686782 + 0 with itself and mate mapped\n",
    "1042 + 0 singletons (0.04% : N/A)\n",
    "0 + 0 with mate mapped to a different chr\n",
    "0 + 0 with mate mapped to a different chr (mapQ>=5)``\n",
    "\n",
    "\n",
    "\n",
    "``$ bwa mem data/4/MG1655-K12.first400K.fasta data/4/ecoli_400K_err_1.fastq data/4/ecoli_400K_err_2.fastq > data/4/alignment_error.sam ``<br>\n",
    "``$ samtools flagstat data/4/alignment_error.sam \n",
    "2763204 + 0 in total (QC-passed reads + QC-failed reads)\n",
    "0 + 0 secondary\n",
    "0 + 0 supplementary\n",
    "0 + 0 duplicates\n",
    "2762617 + 0 mapped (99.98% : N/A)\n",
    "2763204 + 0 paired in sequencing\n",
    "1381602 + 0 read1\n",
    "1381602 + 0 read2\n",
    "2760820 + 0 properly paired (99.91% : N/A)\n",
    "2762132 + 0 with itself and mate mapped\n",
    "485 + 0 singletons (0.02% : N/A)\n",
    "0 + 0 with mate mapped to a different chr\n",
    "0 + 0 with mate mapped to a different chr (mapQ>=5)\n",
    "``"
   ]
  },
  {
   "cell_type": "code",
   "execution_count": 5,
   "metadata": {},
   "outputs": [],
   "source": [
    "import pysam\n",
    "\n",
    "import numpy as np\n",
    "import pandas as pd"
   ]
  },
  {
   "cell_type": "code",
   "execution_count": 27,
   "metadata": {},
   "outputs": [],
   "source": [
    "#возвращает словарь: индекс в референсе - значение(буква) в последовательности для рида\n",
    "def make_index(read):\n",
    "    dict_al = {}\n",
    "    dict_ref = {}\n",
    "    for read_i, ref_i in read.get_aligned_pairs(matches_only=False):\n",
    "        dict_al.update({ref_i: None if read_i is None else read.query_sequene[read_i]})\n",
    "\n",
    "def dunno(correct_sam_file, raw_sam_file):\n",
    "    cor_sam = pysam.AlignmentFile(correct_sam_file, \"r\")\n",
    "    raw_sam = pysam.AlignmentFile(raw_sam_file, \"r\")\n",
    "    flag = True\n",
    "    answer = np.zeros((2,3), dtype=int)\n",
    "    try:\n",
    "        while flag:\n",
    "            cor_read = next(cor_sam)\n",
    "            raw_read = next(raw_sam)\n",
    "            if cor_read.is_unmapped or raw_read.is_unmapped:\n",
    "                continue\n",
    "            while cor_read.query_name != raw_read.query_name:\n",
    "                for pair in raw_read.get_aligned_pairs(matches_only=False):\n",
    "                    if pair[0] != None and pair[1] != None:\n",
    "                        # Incorrectly removed base - убрал, а не должен был - сырой смапился \n",
    "                        answer[1][2] += 1\n",
    "                    else:\n",
    "                        # Correctly remove base - убрал правильно, так как не мапился, или мапился неверно\n",
    "                        answer[0][2] += 1                    \n",
    "                raw_read = next(raw_sam)\n",
    "            cor_index = make_index(cor_read)\n",
    "            raw_index = make_index(raw_read)\n",
    "            ref_index\n",
    "    except StopIteration:\n",
    "        return answer\n",
    "    "
   ]
  },
  {
   "cell_type": "code",
   "execution_count": 28,
   "metadata": {},
   "outputs": [
    {
     "name": "stdout",
     "output_type": "stream",
     "text": [
      "[[     0      0  22378]\n",
      " [     0      0 159726]]\n"
     ]
    }
   ],
   "source": [
    "print(dunno('data/4/4/alignment_correct.sam', 'data/4/4/alignment_error.sam'))"
   ]
  },
  {
   "cell_type": "code",
   "execution_count": 22,
   "metadata": {},
   "outputs": [
    {
     "data": {
      "text/plain": [
       "array([[0, 0, 0],\n",
       "       [0, 3, 5]])"
      ]
     },
     "execution_count": 22,
     "metadata": {},
     "output_type": "execute_result"
    }
   ],
   "source": [
    "ans = np.zeros((2,3), dtype=int)\n",
    "ans[1][1] += 3\n",
    "ans[1][2] += 5\n",
    "ans"
   ]
  }
 ],
 "metadata": {
  "kernelspec": {
   "display_name": "Python 3",
   "language": "python",
   "name": "python3"
  },
  "language_info": {
   "codemirror_mode": {
    "name": "ipython",
    "version": 3
   },
   "file_extension": ".py",
   "mimetype": "text/x-python",
   "name": "python",
   "nbconvert_exporter": "python",
   "pygments_lexer": "ipython3",
   "version": "3.7.6"
  }
 },
 "nbformat": 4,
 "nbformat_minor": 4
}
