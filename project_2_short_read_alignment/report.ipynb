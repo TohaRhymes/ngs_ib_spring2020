{
 "cells": [
  {
   "cell_type": "code",
   "execution_count": 193,
   "metadata": {},
   "outputs": [],
   "source": [
    "import Bio.bgzf as bgzf\n",
    "import pysam\n",
    "import numpy as np\n",
    "import matplotlib.pyplot as plt\n",
    "import matplotlib\n",
    "import statsmodels.stats.api as sms\n",
    "import seaborn as sns\n",
    "\n",
    "\n",
    "from collections import defaultdict, Counter\n",
    "from operator import itemgetter\n",
    "from itertools import groupby"
   ]
  },
  {
   "cell_type": "markdown",
   "metadata": {},
   "source": [
    "# Домашка 2. Выравнивание коротких ридов.\n",
    "## Часть а. Анализ ридов Illumina"
   ]
  },
  {
   "cell_type": "markdown",
   "metadata": {},
   "source": [
    "### Данные\n",
    "\n",
    "Тестовый датасет: `test_1.fastq, test_2.fastq`<br>\n",
    "Тестовый геном: `MG1655-K12.first10K.fasta`\n",
    "\n",
    "Если ваша фамилия начинается на М-Я (моя фамилия на букву Ч):<br>\n",
    "Датасет №1: `B.faecium/frag.R1.fastq.gz`, `B.faecium/frag.R2.fastq.gz`<br>\n",
    "Датасет №2: `B.faecium/jump.R1.fastq.gz`, `B.faecium/jump.R2.fastq.gz`<br>\n",
    "Референсный геном: `B.faecium/ref.fasta.gz*`<br>\n",
    "\n",
    "Поехали!"
   ]
  },
  {
   "cell_type": "markdown",
   "metadata": {},
   "source": [
    "#### 0. Разбораться с `Bowtie2` / `bwa mem`\n",
    "Построить индекс, запустить любой из тулов на ваш выбор, определить процент приложившихся ридов (`samtools flagstat`). \n",
    "\n",
    "Выберу `bwa`.\n",
    "<br>\n",
    "Установим `bwa` and `samtools`\n",
    "```\n",
    "sudo apt-get install bwa\n",
    "sudo apt-get install samtools\n",
    "```\n",
    "Далее, начнем работу с тестом:\n",
    "индексируем, выравниваем, декобируем в бам и чекаем статистику:\n",
    "```\n",
    "$ bwa index MG1655-K12.first10K.fasta \n",
    "$ bwa mem MG1655-K12.first10K.fasta test_1.fastq test_2.fastq > alignment.sam\n",
    "$ samtools view -S -b alignment.sam > alignment.bam\n",
    "$ samtools flagstat alignment.bam\n",
    "56320 + 0 in total (QC-passed reads + QC-failed reads)\n",
    "0 + 0 secondary\n",
    "0 + 0 supplementary\n",
    "0 + 0 duplicates\n",
    "56320 + 0 mapped (100.00% : N/A)\n",
    "56320 + 0 paired in sequencing\n",
    "28160 + 0 read1\n",
    "28160 + 0 read2\n",
    "56280 + 0 properly paired (99.93% : N/A)\n",
    "56320 + 0 with itself and mate mapped\n",
    "0 + 0 singletons (0.00% : N/A)\n",
    "0 + 0 with mate mapped to a different chr\n",
    "0 + 0 with mate mapped to a different chr (mapQ>=5)\n",
    "\n",
    "```\n",
    "т.е. замапилось 99.93 процента\n",
    "\n",
    "Для нормальных датасетов аналогично:\n",
    "```\n",
    "bwa index ref.fasta\n",
    "bwa mem ref.fasta jump.R1.fastq jump.R2.fastq > alignment_jump.sam\n",
    "bwa mem ref.fasta frag.R1.fastq frag.R2.fastq > alignment_frag.sam\n",
    "```\n"
   ]
  },
  {
   "cell_type": "markdown",
   "metadata": {},
   "source": [
    "### 1. Покрытие генома.\n",
    "По SAM файлу:\n",
    "* построить график покрытия генома, \n",
    "* определить среднее покрытие и долю покрытой области генома. \n",
    "\n",
    "Покрытие одной позиции в геноме есть количество ридов, приложившихся так, что их концы находятся по разные стороны от этой позиции. График можно строить усредняя, например, по 1000 нуклеотидов. \n",
    "\n",
    "Доля покрытой области генома определяется как процент нуклеотидов с ненулевым покрытием по отношению ко всей длине генома."
   ]
  },
  {
   "cell_type": "markdown",
   "metadata": {},
   "source": [
    "##### Подсчет покрытия\n",
    "\n",
    "Функция очень просто считает по строке cigar покрытие и возвращает массив \"покрытие на каждый нуклеотид\"."
   ]
  },
  {
   "cell_type": "code",
   "execution_count": 316,
   "metadata": {},
   "outputs": [],
   "source": [
    "def count_cov(bamfile, length):\n",
    "    base_cov = np.array([0 for i in range(length+1)])\n",
    "    count = 0\n",
    "    ex_counter = 0\n",
    "    for read in bamfile:\n",
    "        try:\n",
    "            count += 1\n",
    "            if count % 100000 == 0:\n",
    "                print(count, end = ' ')\n",
    "            if not read.is_unmapped:\n",
    "                start = read.reference_start\n",
    "                for tup in read.cigar:\n",
    "                    s = start\n",
    "                    f = start + tup[1]\n",
    "                    if tup[0] == 8 or tup[0] == 7 or tup[0] == 1 or tup[0] == 0:  \n",
    "                        for i in range(s, f):\n",
    "                            base_cov[i] += 1\n",
    "                    start = f\n",
    "        except:\n",
    "            ex_counter += 1\n",
    "    print('\\nРиды, при чтении которых возникла ошибка: '+str(ex_counter))\n",
    "    return base_cov"
   ]
  },
  {
   "cell_type": "markdown",
   "metadata": {},
   "source": [
    "##### Подсчет длины референсного генома.\n",
    "\n",
    "Берем из информационной строки sam-файла"
   ]
  },
  {
   "cell_type": "code",
   "execution_count": 70,
   "metadata": {},
   "outputs": [],
   "source": [
    "def read_len(sam):\n",
    "    samfile = open(sam, 'r')\n",
    "    line_0 = samfile.readline()\n",
    "    samfile.close()\n",
    "    ln = int(line_0.split('\\t')[2].replace('LN:',''))\n",
    "    return ln"
   ]
  },
  {
   "cell_type": "markdown",
   "metadata": {},
   "source": [
    "##### График покрытия генома"
   ]
  },
  {
   "cell_type": "code",
   "execution_count": 71,
   "metadata": {},
   "outputs": [],
   "source": [
    "def draw_coverage(cov):\n",
    "    length = len(cov)//1000 + 1\n",
    "    new_cov = np.array([])\n",
    "    positions = np.array([])\n",
    "    for i in range(length):\n",
    "        positions = np.append(positions, i*1000)\n",
    "        if i!=length-1:\n",
    "            new_cov = np.append(new_cov, np.average(cov[i*1000:(i+1)*1000]))\n",
    "        else:\n",
    "            new_cov = np.append(new_cov, np.average(cov[i*1000:len(cov)]))\n",
    "    plt.plot(positions, new_cov, linestyle=\"-\", color = 'red')"
   ]
  },
  {
   "cell_type": "markdown",
   "metadata": {},
   "source": [
    "##### Среднее покрытие и доля покрытой области генома."
   ]
  },
  {
   "cell_type": "code",
   "execution_count": 72,
   "metadata": {},
   "outputs": [],
   "source": [
    "def cov_stat(cov):\n",
    "    avg = np.average(cov)\n",
    "    zero_amount = np.count_nonzero(a == 0)\n",
    "    part_of_cov = 1 - zero_amount/len(cov)\n",
    "    return avg, part_of_cov"
   ]
  },
  {
   "cell_type": "markdown",
   "metadata": {},
   "source": [
    "##### Запустим на тесте!"
   ]
  },
  {
   "cell_type": "code",
   "execution_count": 317,
   "metadata": {},
   "outputs": [],
   "source": [
    "# Прочитаем файл, \n",
    "\n",
    "bam_test = 'data/test/alignment.bam'\n",
    "bamfile_test = pysam.AlignmentFile(bam_test, 'rb')\n",
    "sam_test = 'data/test/alignment.sam'\n",
    "length_test = bamfile_test.lengths[0]"
   ]
  },
  {
   "cell_type": "code",
   "execution_count": 318,
   "metadata": {
    "scrolled": true
   },
   "outputs": [
    {
     "name": "stdout",
     "output_type": "stream",
     "text": [
      "\n",
      "Риды, при чтении которых возникла ошибка: 0\n"
     ]
    }
   ],
   "source": [
    "# Посчитаем покрытие и статистики\n",
    "coverage_test = np.array(count_cov(bamfile_test, length_test))\n",
    "average_cov_test, part_of_cov_test = cov_stat(coverage_test)"
   ]
  },
  {
   "cell_type": "code",
   "execution_count": 319,
   "metadata": {},
   "outputs": [
    {
     "name": "stdout",
     "output_type": "stream",
     "text": [
      "Среднее покрытие:508.92380761923806\n",
      "Доля покрытия:1.0\n"
     ]
    }
   ],
   "source": [
    "# Выведем\n",
    "print('Среднее покрытие:'+str(average_cov_test))\n",
    "print('Доля покрытия:'+str(part_of_cov_test))"
   ]
  },
  {
   "cell_type": "code",
   "execution_count": 320,
   "metadata": {
    "scrolled": false
   },
   "outputs": [
    {
     "data": {
      "image/png": "[encoded data removed]",
      "text/plain": [
       "<Figure size 432x288 with 1 Axes>"
      ]
     },
     "metadata": {
      "needs_background": "light"
     },
     "output_type": "display_data"
    }
   ],
   "source": [
    "#Нарисуем график покрытия\n",
    "draw_coverage(coverage_test)"
   ]
  },
  {
   "cell_type": "markdown",
   "metadata": {},
   "source": [
    "##### Запустим на реальных данных!"
   ]
  },
  {
   "cell_type": "code",
   "execution_count": 306,
   "metadata": {},
   "outputs": [],
   "source": [
    "# Прочитаем файл\n",
    "bam = 'data/B.faecium/alignment_frag.bam'\n",
    "bamfile = pysam.AlignmentFile(bam, 'rb')\n",
    "sam = 'data/B.faecium/alignment_frag.sam'\n",
    "length = bamfile.lengths[0]"
   ]
  },
  {
   "cell_type": "code",
   "execution_count": 307,
   "metadata": {
    "scrolled": true
   },
   "outputs": [
    {
     "name": "stdout",
     "output_type": "stream",
     "text": [
      "100000 200000 300000 400000 500000 600000 700000 800000 900000 1000000 1100000 1200000 1300000 1400000 1500000 1600000 1700000 1800000 1900000 2000000 2100000 2200000 2300000 2400000 2500000 2600000 2700000 2800000 2900000 3000000 3100000 3200000 3300000 3400000 Риды, при чтении которых возникла ошибка: 23\n"
     ]
    }
   ],
   "source": [
    "# Посчитаем покрытие и статистики\n",
    "coverage = np.array(count_cov(bamfile, length))\n",
    "average_cov, part_of_cov = cov_stat(coverage)"
   ]
  },
  {
   "cell_type": "markdown",
   "metadata": {},
   "source": [
    "### !!!Странно, иногда возникают ошибки (выход за пределы длины), я их ловлю). Их вроже немного, поэтому ок."
   ]
  },
  {
   "cell_type": "code",
   "execution_count": 308,
   "metadata": {},
   "outputs": [
    {
     "name": "stdout",
     "output_type": "stream",
     "text": [
      "Среднее покрытие:130.59156894399766\n",
      "Доля покрытия:1.0\n"
     ]
    }
   ],
   "source": [
    "# Выведем\n",
    "print('Среднее покрытие:'+str(average_cov))\n",
    "print('Доля покрытия:'+str(part_of_cov))"
   ]
  },
  {
   "cell_type": "code",
   "execution_count": 309,
   "metadata": {},
   "outputs": [
    {
     "data": {
      "image/png": "[encoded data removed]",
      "text/plain": [
       "<Figure size 432x288 with 1 Axes>"
      ]
     },
     "metadata": {
      "needs_background": "light"
     },
     "output_type": "display_data"
    }
   ],
   "source": [
    "#Нарисуем график покрытия\n",
    "draw_coverage(coverage)"
   ]
  },
  {
   "cell_type": "markdown",
   "metadata": {},
   "source": [
    "### 2. Распределение расстояния вставки.\n",
    "По SAM файлу:\n",
    "* построить график распределения расстояния вставки, \n",
    "* определить среднее расстояние вставки, среднеквадратичное отклонение и интервал минимальной ширины, в который попадает 95% ридов. \n",
    "\n",
    "На графике по оси Х должно быть расстояние вставки, по оси Y — количество ридов в заданным расстоянием вставки.\n"
   ]
  },
  {
   "cell_type": "markdown",
   "metadata": {},
   "source": [
    "##### Функция, возвращающая массив длин вставок"
   ]
  },
  {
   "cell_type": "code",
   "execution_count": 310,
   "metadata": {},
   "outputs": [],
   "source": [
    "def insertion(bam_file):\n",
    "    ins = np.array([])\n",
    "    count = 0\n",
    "    for read in bam_file:\n",
    "        count += 1\n",
    "        if count % 10000 == 0:\n",
    "            print(count, end = ' ')\n",
    "        if not read.is_unmapped:\n",
    "            if read.template_length>0:\n",
    "                 ins = np.append(ins, read.template_length)\n",
    "    return(ins)"
   ]
  },
  {
   "cell_type": "markdown",
   "metadata": {},
   "source": [
    "#### Посчитаем всякие нужные статистики"
   ]
  },
  {
   "cell_type": "code",
   "execution_count": 188,
   "metadata": {},
   "outputs": [],
   "source": [
    "def count_stat(row):\n",
    "    mean = np.mean(row)\n",
    "    standart_d = np.std(row)\n",
    "    interval = sms.DescrStatsW(row).tconfint_mean()\n",
    "    return mean, standart_d, interval"
   ]
  },
  {
   "cell_type": "markdown",
   "metadata": {},
   "source": [
    "##### Запустим на тесте"
   ]
  },
  {
   "cell_type": "code",
   "execution_count": 206,
   "metadata": {},
   "outputs": [],
   "source": [
    "# Прочитаем файл, \n",
    "bam_test = 'data/test/alignment.bam'\n",
    "bamfile_test = pysam.AlignmentFile(bam_test, 'rb')\n",
    "sam_test = 'data/test/alignment.sam'\n",
    "length_test = bamfile_test.lengths[0]"
   ]
  },
  {
   "cell_type": "markdown",
   "metadata": {},
   "source": [
    "Посчитаем и выведем все, что нужно"
   ]
  },
  {
   "cell_type": "code",
   "execution_count": 207,
   "metadata": {},
   "outputs": [],
   "source": [
    "insert_test = insertion(bamfile_test)"
   ]
  },
  {
   "cell_type": "code",
   "execution_count": 208,
   "metadata": {
    "scrolled": true
   },
   "outputs": [
    {
     "name": "stdout",
     "output_type": "stream",
     "text": [
      "Cреднее расстояние вставки: 215.2860440340909\n",
      "Cреднеквадратичное отклонение: 10.590040942453138\n",
      "Интервал минимальной ширины, в который попадает 95% ридов: (215.16234799760394, 215.40974007057787)\n"
     ]
    }
   ],
   "source": [
    "mean_test, standart_d_test, interval_test = count_stat(insert_test)\n",
    "# Выведем\n",
    "print('Cреднее расстояние вставки: '+str(mean_test))\n",
    "print('Cреднеквадратичное отклонение: '+str(standart_d_test))\n",
    "print('Интервал минимальной ширины, в который попадает 95% ридов: '+str(interval_test))"
   ]
  },
  {
   "cell_type": "code",
   "execution_count": 209,
   "metadata": {},
   "outputs": [
    {
     "name": "stdout",
     "output_type": "stream",
     "text": [
      "График распределения расстояния вставки:\n"
     ]
    },
    {
     "data": {
      "text/plain": [
       "<matplotlib.axes._subplots.AxesSubplot at 0x7fea3694ed50>"
      ]
     },
     "execution_count": 209,
     "metadata": {},
     "output_type": "execute_result"
    },
    {
     "data": {
      "image/png": "[encoded data removed]",
      "text/plain": [
       "<Figure size 432x288 with 1 Axes>"
      ]
     },
     "metadata": {
      "needs_background": "light"
     },
     "output_type": "display_data"
    }
   ],
   "source": [
    "print('График распределения расстояния вставки:')\n",
    "sns.distplot(insert_test)"
   ]
  },
  {
   "cell_type": "markdown",
   "metadata": {},
   "source": [
    "##### Запустим на данных"
   ]
  },
  {
   "cell_type": "code",
   "execution_count": 214,
   "metadata": {},
   "outputs": [],
   "source": [
    "# Прочитаем файл\n",
    "bam = 'data/B.faecium/alignment_frag.bam'\n",
    "bamfile = pysam.AlignmentFile(bam, 'rb')\n",
    "sam = 'data/B.faecium/alignment_frag.sam'\n",
    "length = bamfile.lengths[0]"
   ]
  },
  {
   "cell_type": "code",
   "execution_count": 215,
   "metadata": {},
   "outputs": [
    {
     "name": "stdout",
     "output_type": "stream",
     "text": [
      "10000 20000 30000 40000 50000 60000 70000 80000 90000 100000 110000 120000 130000 140000 150000 160000 170000 180000 190000 200000 210000 220000 230000 240000 250000 260000 270000 280000 290000 300000 310000 320000 330000 340000 350000 360000 370000 380000 390000 400000 410000 420000 430000 440000 450000 460000 470000 480000 490000 500000 510000 520000 530000 540000 550000 560000 570000 580000 590000 600000 610000 620000 630000 640000 650000 660000 670000 680000 690000 700000 710000 720000 730000 740000 750000 760000 770000 780000 790000 800000 810000 820000 830000 840000 850000 860000 870000 880000 890000 900000 910000 920000 930000 940000 950000 960000 970000 980000 990000 1000000 1010000 1020000 1030000 1040000 1050000 1060000 1070000 1080000 1090000 1100000 1110000 1120000 1130000 1140000 1150000 1160000 1170000 1180000 1190000 1200000 1210000 1220000 1230000 1240000 1250000 1260000 1270000 1280000 1290000 1300000 1310000 1320000 1330000 1340000 1350000 1360000 1370000 1380000 1390000 1400000 1410000 1420000 1430000 1440000 1450000 1460000 1470000 1480000 1490000 1500000 1510000 1520000 1530000 1540000 1550000 1560000 1570000 1580000 1590000 1600000 1610000 1620000 1630000 1640000 1650000 1660000 1670000 1680000 1690000 1700000 1710000 1720000 1730000 1740000 1750000 1760000 1770000 1780000 1790000 1800000 1810000 1820000 1830000 1840000 1850000 1860000 1870000 1880000 1890000 1900000 1910000 1920000 1930000 1940000 1950000 1960000 1970000 1980000 1990000 2000000 2010000 2020000 2030000 2040000 2050000 2060000 2070000 2080000 2090000 2100000 2110000 2120000 2130000 2140000 2150000 2160000 2170000 2180000 2190000 2200000 2210000 2220000 2230000 2240000 2250000 2260000 2270000 2280000 2290000 2300000 2310000 2320000 2330000 2340000 2350000 2360000 2370000 2380000 2390000 2400000 2410000 2420000 2430000 2440000 2450000 2460000 2470000 2480000 2490000 2500000 2510000 2520000 2530000 2540000 2550000 2560000 2570000 2580000 2590000 2600000 2610000 2620000 2630000 2640000 2650000 2660000 2670000 2680000 2690000 2700000 2710000 2720000 2730000 2740000 2750000 2760000 2770000 2780000 2790000 2800000 2810000 2820000 2830000 2840000 2850000 2860000 2870000 2880000 2890000 2900000 2910000 2920000 2930000 2940000 2950000 2960000 2970000 2980000 2990000 3000000 3010000 3020000 3030000 3040000 3050000 3060000 3070000 3080000 3090000 3100000 3110000 3120000 3130000 3140000 3150000 3160000 3170000 3180000 3190000 3200000 3210000 3220000 3230000 3240000 3250000 3260000 3270000 3280000 3290000 3300000 3310000 3320000 3330000 3340000 3350000 3360000 3370000 3380000 3390000 3400000 3410000 3420000 3430000 "
     ]
    }
   ],
   "source": [
    "insert = insertion(bamfile)"
   ]
  },
  {
   "cell_type": "code",
   "execution_count": 216,
   "metadata": {},
   "outputs": [
    {
     "name": "stdout",
     "output_type": "stream",
     "text": [
      "Cреднее расстояние вставки: 2372.5621806589907\n",
      "Cреднеквадратичное отклонение: 63457.558974676875\n",
      "Интервал минимальной ширины, в который попадает 95% ридов: (2277.40600499292, 2467.7183563250614)\n"
     ]
    }
   ],
   "source": [
    "mean, standart_d, interval = count_stat(insert)\n",
    "# Выведем\n",
    "print('Cреднее расстояние вставки: '+str(mean))\n",
    "print('Cреднеквадратичное отклонение: '+str(standart_d))\n",
    "print('Интервал минимальной ширины, в который попадает 95% ридов: '+str(interval))"
   ]
  },
  {
   "cell_type": "code",
   "execution_count": 217,
   "metadata": {},
   "outputs": [
    {
     "name": "stdout",
     "output_type": "stream",
     "text": [
      "График распределения расстояния вставки:\n"
     ]
    },
    {
     "data": {
      "text/plain": [
       "<matplotlib.axes._subplots.AxesSubplot at 0x7fea36796e10>"
      ]
     },
     "execution_count": 217,
     "metadata": {},
     "output_type": "execute_result"
    },
    {
     "data": {
      "image/png": "[encoded data removed]",
      "text/plain": [
       "<Figure size 432x288 with 1 Axes>"
      ]
     },
     "metadata": {
      "needs_background": "light"
     },
     "output_type": "display_data"
    }
   ],
   "source": [
    "print('График распределения расстояния вставки:')\n",
    "sns.distplot(insert_test)"
   ]
  },
  {
   "cell_type": "markdown",
   "metadata": {},
   "source": [
    "УРА!"
   ]
  },
  {
   "cell_type": "markdown",
   "metadata": {},
   "source": [
    "### 3. Частоты различных замен\n",
    "Построить матрицу частот замен (A,C,G,T).\n",
    "Так, в ячейке (А,С) должно стоять количество ошибок замены С на А (С в референсе, А в риде). Определить средний процент ошибок в ридах.\n",
    "Я понимаю, как это делать, допишу потом.)))"
   ]
  },
  {
   "cell_type": "code",
   "execution_count": null,
   "metadata": {},
   "outputs": [],
   "source": []
  },
  {
   "cell_type": "markdown",
   "metadata": {},
   "source": [
    "## Часть b. Анализ ридов IonTorrent\n",
    "### Данные: \n",
    "Тестовые данные: `test.fastq`, `test_reference.fasta`\n",
    "\n",
    "Данные: `B22-730.fastq.gz`, `C24-698.fastq.gz`\n",
    "\n",
    "Референсный геном: `DH10B-K12.fasta`\n",
    "\n",
    "Обработаем (тестовый не заработал ваще):\n",
    "```\n",
    "$ bwa index DH10B-K12.fasta \n",
    "$ bwa mem DH10B-K12.fasta B22-730.fastq >alignment_B.sam\n",
    "$ samtools view -S -b alignment_B.sam > alignment_B.bam\n",
    "$ bwa mem DH10B-K12.fasta C24-698.fastq >alignment_C.sam\n",
    "$ samtools view -S -b alignment_C.sam > alignment_C.bam\n",
    "\n",
    "```"
   ]
  },
  {
   "cell_type": "markdown",
   "metadata": {},
   "source": [
    "### 1. Статистика ридов IonTorrent\n",
    "С помощью посчитать следующие статистики для ридов:\n",
    "* Покрытие генома (график, процент покрытого генома, среднее покрытие)\n",
    "* Средний процент ошибок в ридах\n",
    "* Статистика длин инделов\n",
    "* Статистика длин инделов в завимости от длины гомополимерного участка (участок состоящий из одного типа нуклеотидов, например АААААААА). Мы фиксируем длину гомополимерного участка (пусть 5bp), и находим все гомополимеры такой длины в референсе. Дальше смотрим как участки этой длины прочитались секвенатором. Смотрим сколько раз прочиталось 3bp, 4bp, 5bp, 6bp и итд. Повторяем это для гомополимеров всех длин (например, от 3 до 20).\n",
    "* Статистика качества нуклеотидов\n",
    "    * при ошибочно вставленном нуклеотиде\n",
    "    * при замене\n",
    "* Таблица частот замен/вставок/удалений\n"
   ]
  },
  {
   "cell_type": "code",
   "execution_count": 311,
   "metadata": {},
   "outputs": [],
   "source": [
    "def read_al(path):\n",
    "    bamfile = pysam.AlignmentFile(path+'.bam', 'rb')\n",
    "    length = bamfile.lengths[0]\n",
    "    return bamfile, length"
   ]
  },
  {
   "cell_type": "code",
   "execution_count": 321,
   "metadata": {},
   "outputs": [],
   "source": [
    "def calculate_cov(bamfile, length):\n",
    "    # покрытие:\n",
    "    coverage = np.array(count_cov(bamfile, length))\n",
    "    average_cov, part_of_cov = cov_stat(coverage)\n",
    "    print('Среднее покрытие:'+str(average_cov))\n",
    "    print('Доля покрытия:'+str(part_of_cov))\n",
    "    draw_coverage(coverage)\n",
    "    # ошибки в ридах\n",
    "    "
   ]
  },
  {
   "cell_type": "code",
   "execution_count": null,
   "metadata": {},
   "outputs": [],
   "source": [
    "def avg_error(bamfile, read):"
   ]
  },
  {
   "cell_type": "code",
   "execution_count": 322,
   "metadata": {},
   "outputs": [],
   "source": [
    "# Прочитаем файл, \n",
    "bamfile, length = read_al('data/2b/alignment_B')"
   ]
  },
  {
   "cell_type": "code",
   "execution_count": 323,
   "metadata": {},
   "outputs": [
    {
     "name": "stdout",
     "output_type": "stream",
     "text": [
      "100000 200000 300000 400000 \n",
      "Риды, при чтении которых возникла ошибка: 7\n",
      "Среднее покрытие:34.06491358129018\n",
      "Доля покрытия:1.0\n"
     ]
    },
    {
     "data": {
      "image/png": "[encoded data removed]",
      "text/plain": [
       "<Figure size 432x288 with 1 Axes>"
      ]
     },
     "metadata": {
      "needs_background": "light"
     },
     "output_type": "display_data"
    }
   ],
   "source": [
    "calculate_cov(bamfile, length)"
   ]
  },
  {
   "cell_type": "code",
   "execution_count": null,
   "metadata": {},
   "outputs": [],
   "source": []
  }
 ],
 "metadata": {
  "kernelspec": {
   "display_name": "Python 3",
   "language": "python",
   "name": "python3"
  },
  "language_info": {
   "codemirror_mode": {
    "name": "ipython",
    "version": 3
   },
   "file_extension": ".py",
   "mimetype": "text/x-python",
   "name": "python",
   "nbconvert_exporter": "python",
   "pygments_lexer": "ipython3",
   "version": "3.7.6"
  }
 },
 "nbformat": 4,
 "nbformat_minor": 2
}
