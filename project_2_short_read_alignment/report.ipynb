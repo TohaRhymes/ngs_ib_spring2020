{
 "cells": [
  {
   "cell_type": "code",
   "execution_count": 3,
   "metadata": {},
   "outputs": [],
   "source": [
    "import Bio.bgzf as bgzf\n",
    "import pysam\n",
    "import numpy as np\n",
    "import pandas as pd\n",
    "import matplotlib.pyplot as plt\n",
    "import matplotlib\n",
    "import statsmodels.stats.api as sms\n",
    "import scipy.stats as st\n",
    "import seaborn as sns\n",
    "from IPython.display import display, HTML\n",
    "\n",
    "\n",
    "from collections import defaultdict, Counter\n",
    "from operator import itemgetter\n",
    "from itertools import groupby"
   ]
  },
  {
   "cell_type": "markdown",
   "metadata": {},
   "source": [
    "# Домашка 2. Выравнивание коротких ридов.\n",
    "## Часть а. Анализ ридов Illumina"
   ]
  },
  {
   "cell_type": "markdown",
   "metadata": {},
   "source": [
    "### Данные\n",
    "\n",
    "Тестовый датасет: `test_1.fastq, test_2.fastq`<br>\n",
    "Тестовый геном: `MG1655-K12.first10K.fasta`\n",
    "\n",
    "Если ваша фамилия начинается на М-Я (моя фамилия на букву Ч):<br>\n",
    "Датасет №1: `B.faecium/frag.R1.fastq.gz`, `B.faecium/frag.R2.fastq.gz`<br>\n",
    "Датасет №2: `B.faecium/jump.R1.fastq.gz`, `B.faecium/jump.R2.fastq.gz`<br>\n",
    "Референсный геном: `B.faecium/ref.fasta.gz*`<br>\n",
    "\n",
    "Поехали!"
   ]
  },
  {
   "cell_type": "markdown",
   "metadata": {},
   "source": [
    "#### 0. Разбораться с `Bowtie2` / `bwa mem`\n",
    "Построить индекс, запустить любой из тулов на ваш выбор, определить процент приложившихся ридов (`samtools flagstat`). \n",
    "\n",
    "Выберу `bwa`.\n",
    "<br>\n",
    "Установим `bwa` and `samtools`\n",
    "```\n",
    "sudo apt-get install bwa\n",
    "sudo apt-get install samtools\n",
    "```\n",
    "Далее, начнем работу с тестом:\n",
    "индексируем, выравниваем, декобируем в бам и чекаем статистику:\n",
    "```\n",
    "$ bwa index MG1655-K12.first10K.fasta \n",
    "$ bwa mem MG1655-K12.first10K.fasta test_1.fastq test_2.fastq > alignment.sam\n",
    "$ samtools view -S -b alignment.sam > alignment.bam\n",
    "$ samtools flagstat alignment.bam\n",
    "56320 + 0 in total (QC-passed reads + QC-failed reads)\n",
    "0 + 0 secondary\n",
    "0 + 0 supplementary\n",
    "0 + 0 duplicates\n",
    "56320 + 0 mapped (100.00% : N/A)\n",
    "56320 + 0 paired in sequencing\n",
    "28160 + 0 read1\n",
    "28160 + 0 read2\n",
    "56280 + 0 properly paired (99.93% : N/A)\n",
    "56320 + 0 with itself and mate mapped\n",
    "0 + 0 singletons (0.00% : N/A)\n",
    "0 + 0 with mate mapped to a different chr\n",
    "0 + 0 with mate mapped to a different chr (mapQ>=5)\n",
    "\n",
    "```\n",
    "т.е. замапилось 99.93 процента\n",
    "\n",
    "Для нормальных датасетов аналогично:\n",
    "```\n",
    "bwa index ref.fasta\n",
    "bwa mem ref.fasta jump.R1.fastq jump.R2.fastq > alignment_jump.sam\n",
    "samtools view -S -b alignment_jump.sam > alignment_jump.bam\n",
    "bwa mem ref.fasta frag.R1.fastq frag.R2.fastq > alignment_frag.sam\n",
    "samtools view -S -b alignment_frag.sam > alignment_frag.bam\n",
    "\n",
    "```\n"
   ]
  },
  {
   "cell_type": "markdown",
   "metadata": {},
   "source": [
    "### 1. Покрытие генома.\n",
    "По SAM файлу:\n",
    "* построить график покрытия генома, \n",
    "* определить среднее покрытие и долю покрытой области генома. \n",
    "\n",
    "Покрытие одной позиции в геноме есть количество ридов, приложившихся так, что их концы находятся по разные стороны от этой позиции. График можно строить усредняя, например, по 1000 нуклеотидов. \n",
    "\n",
    "Доля покрытой области генома определяется как процент нуклеотидов с ненулевым покрытием по отношению ко всей длине генома."
   ]
  },
  {
   "cell_type": "code",
   "execution_count": 4,
   "metadata": {},
   "outputs": [],
   "source": [
    "##### Подсчет покрытия\n",
    "# Функция очень просто считает по строке cigar покрытие \n",
    "# возвращает массив \"покрытие на каждый нуклеотид\".\n",
    "def count_cov(bam_file_path):\n",
    "    \n",
    "    bamfile = pysam.AlignmentFile(bam_file_path, 'rb')\n",
    "    length = bamfile.lengths[0]\n",
    "    \n",
    "    \n",
    "    base_cov = np.array([0 for i in range(length+1)])\n",
    "    count = 0\n",
    "    ex_counter = 0\n",
    "    for read in bamfile:\n",
    "        try:\n",
    "            count += 1\n",
    "            if count % 100000 == 0:\n",
    "                print(count, end = ' ')\n",
    "            if not read.is_unmapped:\n",
    "                start = read.reference_start\n",
    "                for tup in read.cigar:\n",
    "                    s = start\n",
    "                    f = start + tup[1]\n",
    "                    if tup[0] == 8 or tup[0] == 7 or tup[0] == 1 or tup[0] == 0:  \n",
    "                        for i in range(s, f):\n",
    "                            base_cov[i] += 1\n",
    "                    start = f\n",
    "        except:\n",
    "            ex_counter += 1\n",
    "    print('\\nРиды, при чтении которых возникла ошибка: '+str(ex_counter))\n",
    "    return base_cov\n",
    "\n",
    "#### Подсчет длины референсного генома.\n",
    "# Берем из информационной строки sam-файла\n",
    "def read_len(sam):\n",
    "    samfile = open(sam, 'r')\n",
    "    line_0 = samfile.readline()\n",
    "    samfile.close()\n",
    "    ln = int(line_0.split('\\t')[2].replace('LN:',''))\n",
    "    return ln\n",
    "\n",
    "#### График покрытия генома\n",
    "\n",
    "def draw_coverage(cov):\n",
    "    length = len(cov)//1000 + 1\n",
    "    new_cov = []\n",
    "    positions = []\n",
    "    for i in range(length):\n",
    "        positions.append(i*1000)\n",
    "        if i!=length-1:\n",
    "            new_cov.append(np.average(cov[i*1000:(i+1)*1000]))\n",
    "        else:\n",
    "            new_cov.append(np.average(cov[i*1000:len(cov)]))\n",
    "    positions = np.array(positions)\n",
    "    new_cov = np.array(new_cov)\n",
    "    plt.plot(positions, new_cov, linestyle=\"-\", color = 'red')\n",
    "    plt.show()\n",
    "    \n",
    "#### Среднее покрытие и доля покрытой области генома\n",
    "def cov_stat(cov):\n",
    "    avg = np.average(cov)\n",
    "    zero_amount = np.count_nonzero(avg == 0)\n",
    "    part_of_cov = 1 - zero_amount/len(cov)\n",
    "    return avg, part_of_cov"
   ]
  },
  {
   "cell_type": "markdown",
   "metadata": {},
   "source": [
    "##### Запустим на тесте!"
   ]
  },
  {
   "cell_type": "code",
   "execution_count": 5,
   "metadata": {},
   "outputs": [
    {
     "name": "stdout",
     "output_type": "stream",
     "text": [
      "\n",
      "Риды, при чтении которых возникла ошибка: 0\n",
      "Среднее покрытие:508.92380761923806\n",
      "Доля покрытия:1.0\n"
     ]
    },
    {
     "data": {
      "image/png": "[encoded data removed]",
      "text/plain": [
       "<Figure size 432x288 with 1 Axes>"
      ]
     },
     "metadata": {
      "needs_background": "light"
     },
     "output_type": "display_data"
    }
   ],
   "source": [
    "# Прочитаем файл, \n",
    "\n",
    "bam_test = 'data/test/alignment.bam'\n",
    "\n",
    "# Посчитаем покрытие и статистики\n",
    "coverage_test = np.array(count_cov(bam_test))\n",
    "average_cov_test, part_of_cov_test = cov_stat(coverage_test)\n",
    "\n",
    "# Выведем\n",
    "print('Среднее покрытие:'+str(average_cov_test))\n",
    "print('Доля покрытия:'+str(part_of_cov_test))\n",
    "\n",
    "#Нарисуем график покрытия\n",
    "draw_coverage(coverage_test)"
   ]
  },
  {
   "cell_type": "markdown",
   "metadata": {},
   "source": [
    "### 2. Распределение расстояния вставки.\n",
    "По SAM файлу:\n",
    "* построить график распределения расстояния вставки, \n",
    "* определить среднее расстояние вставки, среднеквадратичное отклонение и интервал минимальной ширины, в который попадает 95% ридов. \n",
    "\n",
    "На графике по оси Х должно быть расстояние вставки, по оси Y — количество ридов в заданным расстоянием вставки.\n"
   ]
  },
  {
   "cell_type": "code",
   "execution_count": 8,
   "metadata": {},
   "outputs": [],
   "source": [
    "#### Функция, возвращающая массив длин вставок\n",
    "def insertion(bam_file_path):\n",
    "    bam_file = pysam.AlignmentFile(bam_file_path, 'rb')\n",
    "    ins = []\n",
    "    count = 0\n",
    "    for read in bam_file:\n",
    "        count += 1\n",
    "        if count % 100000 == 0:\n",
    "            print(count, end = ' ')\n",
    "        if not read.mate_is_unmapped:\n",
    "            ins.append(abs(read.tlen))\n",
    "    print()\n",
    "    return  np.array(ins)\n",
    "\n",
    "\n",
    "#### Посчитаем всякие нужные статистики\n",
    "def count_stat(row):\n",
    "    mean = np.mean(row)\n",
    "    standart_d = np.std(row)\n",
    "    interval = (np.percentile(row, 2.5), np.percentile(row, 97.5))\n",
    "    treshold = np.percentile(row, 99) if np.percentile(row, 99)< 5000 else 5000\n",
    "    sns.distplot(row[row<treshold])\n",
    "    plt.show()\n",
    "    return mean, standart_d, interval"
   ]
  },
  {
   "cell_type": "markdown",
   "metadata": {},
   "source": [
    "##### Запустим на тесте"
   ]
  },
  {
   "cell_type": "markdown",
   "metadata": {},
   "source": [
    "Посчитаем и выведем все, что нужно"
   ]
  },
  {
   "cell_type": "code",
   "execution_count": 9,
   "metadata": {},
   "outputs": [
    {
     "name": "stdout",
     "output_type": "stream",
     "text": [
      "\n"
     ]
    },
    {
     "data": {
      "image/png": "[encoded data removed]",
      "text/plain": [
       "<Figure size 432x288 with 1 Axes>"
      ]
     },
     "metadata": {
      "needs_background": "light"
     },
     "output_type": "display_data"
    },
    {
     "name": "stdout",
     "output_type": "stream",
     "text": [
      "Cреднее расстояние вставки: 215.2860440340909\n",
      "Cреднеквадратичное отклонение: 10.590040942453138\n",
      "Интервал минимальной ширины, в который попадает 95% ридов: (196.0, 234.0)\n"
     ]
    }
   ],
   "source": [
    "# Прочитаем файл, \n",
    "bam_test = 'data/test/alignment.bam'\n",
    "\n",
    "insert_test = insertion(bam_test)\n",
    "mean_test, standart_d_test, interval_test = count_stat(insert_test)\n",
    "\n",
    "# Выведем\n",
    "print('Cреднее расстояние вставки: '+str(mean_test))\n",
    "print('Cреднеквадратичное отклонение: '+str(standart_d_test))\n",
    "print('Интервал минимальной ширины, в который попадает 95% ридов: '+str(interval_test))"
   ]
  },
  {
   "cell_type": "markdown",
   "metadata": {},
   "source": [
    "### 3. Частоты различных замен\n",
    "Построить матрицу частот замен (A,C,G,T).\n",
    "Так, в ячейке (А,С) должно стоять количество ошибок замены С на А (С в референсе, А в риде). Определить средний процент ошибок в ридах."
   ]
  },
  {
   "cell_type": "code",
   "execution_count": 6,
   "metadata": {},
   "outputs": [],
   "source": [
    "def substitutions(bam_file_path):\n",
    "    bam_file = pysam.AlignmentFile(bam_file_path, 'rb')\n",
    "#     for i, read in enumerate(bam_file):\n",
    "#         print(i, read)\n",
    "    letter_to_digit = {'A':0, 'C':1, 'G':2, 'T':3}\n",
    "    digit_to_letter = {0:'A', 1:'C', 2:'G', 3:'T'}\n",
    "    substitutions = [[0 for x in range(4)] for y in range(4)]\n",
    "    sum_length = 0\n",
    "    for read in bam_file:\n",
    "        try:\n",
    "            if not (read.is_supplementary and read.is_unmapped):\n",
    "                ref_seq = read.get_reference_sequence()\n",
    "                read_seq = read.query_alignment_sequence\n",
    "                key_errors = 0\n",
    "                for ref_l, read_l in zip(ref_seq, read_seq):\n",
    "                    ref_l, read_l = ref_l.upper(), read_l.upper()\n",
    "                    try:\n",
    "                        if ref_l != read_l:\n",
    "                            substitutions[letter_to_digit[read_l]][letter_to_digit[ref_l]]+=1\n",
    "                    except KeyError:\n",
    "                        key_errors+=1\n",
    "                sum_length += len(ref_seq)-key_errors\n",
    "        except ValueError:\n",
    "            continue\n",
    "\n",
    "        \n",
    "            \n",
    "    print(to_df(substitutions))\n",
    "    print(f'Процент ошибок: {sum(sum(np.array(substitutions)))/sum_length*100} %')\n",
    "\n",
    "def to_df(substitutions):\n",
    "    numpy_data = np.array(substitutions)\n",
    "    df = pd.DataFrame(data=numpy_data, index=['A', 'C', 'G', 'T'], columns=['A', 'C', 'G', 'T'])\n",
    "    return df"
   ]
  },
  {
   "cell_type": "code",
   "execution_count": 7,
   "metadata": {},
   "outputs": [
    {
     "name": "stdout",
     "output_type": "stream",
     "text": [
      "    A  C   G   T\n",
      "A   0  0   0   0\n",
      "C  15  0  21   0\n",
      "G  19  2   0  16\n",
      "T   1  1  34   0\n",
      "Процент ошибок: 0.0021415602779470177 %\n"
     ]
    }
   ],
   "source": [
    "substitutions(bam_test)"
   ]
  },
  {
   "cell_type": "code",
   "execution_count": 8,
   "metadata": {},
   "outputs": [],
   "source": [
    "def run(bam):\n",
    "    # ПОКРЫТИЕ\n",
    "    print('COVERAGE\\n')\n",
    "    # Посчитаем покрытие и статистики\n",
    "    coverage = np.array(count_cov(bam))\n",
    "    average_cov, part_of_cov = cov_stat(coverage)\n",
    "\n",
    "    # Выведем\n",
    "    print('Среднее покрытие:'+str(average_cov))\n",
    "    print('Доля покрытия:'+str(part_of_cov))\n",
    "\n",
    "    #Нарисуем график покрытия\n",
    "    draw_coverage(coverage)\n",
    "    print('=====================')\n",
    "\n",
    "\n",
    "    # РАССТОЯНИЕ ВСТАВКИ\n",
    "    print('\\nINSERTION DISTANCE\\n')\n",
    "    insert = insertion(bam)\n",
    "\n",
    "    mean, standart_d, interval = count_stat(insert)\n",
    "    # Выведем\n",
    "    print('Cреднее расстояние вставки: '+str(mean))\n",
    "    print('Cреднеквадратичное отклонение: '+str(standart_d))\n",
    "    print('Интервал минимальной ширины, в который попадает 95% ридов: '+str(interval))\n",
    "\n",
    "    print('=====================')\n",
    "\n",
    "    # ЗАМЕНЫ\n",
    "    print('\\nSUBSTITUTIONS\\n')\n",
    "    substitutions(bam)\n"
   ]
  },
  {
   "cell_type": "markdown",
   "metadata": {},
   "source": [
    "### Запустим на real data!"
   ]
  },
  {
   "cell_type": "code",
   "execution_count": 15,
   "metadata": {},
   "outputs": [
    {
     "name": "stdout",
     "output_type": "stream",
     "text": [
      "COVERAGE\n",
      "\n",
      "100000 200000 300000 400000 500000 600000 700000 800000 900000 1000000 1100000 1200000 1300000 1400000 1500000 1600000 1700000 1800000 1900000 2000000 2100000 2200000 2300000 2400000 2500000 2600000 2700000 2800000 2900000 3000000 3100000 3200000 3300000 3400000 3500000 3600000 3700000 3800000 3900000 4000000 4100000 4200000 4300000 \n",
      "Риды, при чтении которых возникла ошибка: 47\n",
      "Среднее покрытие:124.75544205906957\n",
      "Доля покрытия:1.0\n"
     ]
    },
    {
     "data": {
      "image/png": "[encoded data removed]",
      "text/plain": [
       "<Figure size 432x288 with 1 Axes>"
      ]
     },
     "metadata": {
      "needs_background": "light"
     },
     "output_type": "display_data"
    },
    {
     "name": "stdout",
     "output_type": "stream",
     "text": [
      "=====================\n",
      "\n",
      "INSERTION DISTANCE\n",
      "\n",
      "100000 200000 300000 400000 500000 600000 700000 800000 900000 1000000 1100000 1200000 1300000 1400000 1500000 1600000 1700000 1800000 1900000 2000000 2100000 2200000 2300000 2400000 2500000 2600000 2700000 2800000 2900000 3000000 3100000 3200000 3300000 3400000 3500000 3600000 3700000 3800000 3900000 4000000 4100000 4200000 4300000 \n"
     ]
    },
    {
     "data": {
      "image/png": "[encoded data removed]",
      "text/plain": [
       "<Figure size 432x288 with 1 Axes>"
      ]
     },
     "metadata": {
      "needs_background": "light"
     },
     "output_type": "display_data"
    },
    {
     "name": "stdout",
     "output_type": "stream",
     "text": [
      "Cреднее расстояние вставки: 123755.02140813344\n",
      "Cреднеквадратичное отклонение: 461252.2474377679\n",
      "Интервал минимальной ширины, в который попадает 95% ридов: (1529.0, 1814088.9499999997)\n",
      "=====================\n",
      "\n",
      "SUBSTITUTIONS\n",
      "\n",
      "        A       C       G       T\n",
      "A       0  181760  120363   54794\n",
      "C  911468       0  576392  554975\n",
      "G  557167  588576       0  924135\n",
      "T   60223  117102  181465       0\n",
      "Процент ошибок: 1.070630985722677 %\n"
     ]
    }
   ],
   "source": [
    "run('data/B.faecium/alignment_jump.bam')\n"
   ]
  },
  {
   "cell_type": "code",
   "execution_count": 10,
   "metadata": {},
   "outputs": [
    {
     "name": "stdout",
     "output_type": "stream",
     "text": [
      "COVERAGE\n",
      "\n",
      "100000 200000 300000 400000 500000 600000 700000 800000 900000 1000000 1100000 1200000 1300000 1400000 1500000 1600000 1700000 1800000 1900000 2000000 2100000 2200000 2300000 2400000 2500000 2600000 2700000 2800000 2900000 3000000 3100000 3200000 3300000 3400000 \n",
      "Риды, при чтении которых возникла ошибка: 23\n",
      "Среднее покрытие:130.59156894399766\n",
      "Доля покрытия:1.0\n"
     ]
    },
    {
     "data": {
      "image/png": "[encoded data removed]",
      "text/plain": [
       "<Figure size 432x288 with 1 Axes>"
      ]
     },
     "metadata": {
      "needs_background": "light"
     },
     "output_type": "display_data"
    },
    {
     "name": "stdout",
     "output_type": "stream",
     "text": [
      "=====================\n",
      "\n",
      "INSERTION DISTANCE\n",
      "\n",
      "100000 200000 300000 400000 500000 600000 700000 800000 900000 1000000 1100000 1200000 1300000 1400000 1500000 1600000 1700000 1800000 1900000 2000000 2100000 2200000 2300000 2400000 2500000 2600000 2700000 2800000 2900000 3000000 3100000 3200000 3300000 3400000 \n"
     ]
    },
    {
     "data": {
      "image/png": "[encoded data removed]",
      "text/plain": [
       "<Figure size 432x288 with 1 Axes>"
      ]
     },
     "metadata": {
      "needs_background": "light"
     },
     "output_type": "display_data"
    },
    {
     "name": "stdout",
     "output_type": "stream",
     "text": [
      "Cреднее расстояние вставки: 2360.175803007425\n",
      "Cреднеквадратичное отклонение: 63249.24492436618\n",
      "Интервал минимальной ширины, в который попадает 95% ридов: (172.0, 425.0)\n",
      "=====================\n",
      "\n",
      "SUBSTITUTIONS\n",
      "\n",
      "         A        C        G        T\n",
      "A        0   663614   325952   136337\n",
      "C  1556651        0  1367740   946758\n",
      "G   951439  1370383        0  1566515\n",
      "T   133859   325154   665738        0\n",
      "Процент ошибок: 2.120476278154807 %\n"
     ]
    }
   ],
   "source": [
    "run('data/B.faecium/alignment_frag.bam')"
   ]
  },
  {
   "cell_type": "markdown",
   "metadata": {},
   "source": [
    "## Часть b. Анализ ридов IonTorrent\n",
    "### Данные: \n",
    "Тестовые данные: `test.fastq`, `test_reference.fasta`\n",
    "\n",
    "Данные: `B22-730.fastq.gz`, `C24-698.fastq.gz`\n",
    "\n",
    "Референсный геном: `DH10B-K12.fasta`\n",
    "\n",
    "Обработаем (тестовый не заработал ваще):\n",
    "```\n",
    "$ bwa index DH10B-K12.fasta \n",
    "$ bwa mem DH10B-K12.fasta B22-730.fastq >alignment_B.sam\n",
    "$ samtools view -S -b alignment_B.sam > alignment_B.bam\n",
    "$ bwa mem DH10B-K12.fasta C24-698.fastq >alignment_C.sam\n",
    "$ samtools view -S -b alignment_C.sam > alignment_C.bam\n",
    "\n",
    "```"
   ]
  },
  {
   "cell_type": "markdown",
   "metadata": {},
   "source": [
    "### 1. Статистика ридов IonTorrent\n",
    "С помощью посчитать следующие статистики для ридов:\n",
    "* Покрытие генома (график, процент покрытого генома, среднее покрытие)\n",
    "* Средний процент ошибок в ридах\n",
    "* Статистика длин инделов\n",
    "* Статистика длин инделов в завимости от длины гомополимерного участка (участок состоящий из одного типа нуклеотидов, например АААААААА). Мы фиксируем длину гомополимерного участка (пусть 5bp), и находим все гомополимеры такой длины в референсе. Дальше смотрим как участки этой длины прочитались секвенатором. Смотрим сколько раз прочиталось 3bp, 4bp, 5bp, 6bp и итд. Повторяем это для гомополимеров всех длин (например, от 3 до 20).\n",
    "* Статистика качества нуклеотидов\n",
    "    * при ошибочно вставленном нуклеотиде\n",
    "    * при замене\n",
    "* Таблица частот замен/вставок/удалений\n"
   ]
  },
  {
   "cell_type": "code",
   "execution_count": 111,
   "metadata": {},
   "outputs": [],
   "source": [
    "def count_stats(bam_file_path):    \n",
    "#     # покрытие:\n",
    "#     coverage = np.array(count_cov(bam_file_path))\n",
    "#     average_cov, part_of_cov = cov_stat(coverage)\n",
    "#     print('Среднее покрытие:'+str(average_cov))\n",
    "#     print('Доля покрытия:'+str(part_of_cov))\n",
    "#     draw_coverage(coverage)\n",
    "    # ошибки в ридах    "
   ]
  },
  {
   "cell_type": "markdown",
   "metadata": {},
   "source": [
    "### Check this out:"
   ]
  },
  {
   "cell_type": "code",
   "execution_count": 113,
   "metadata": {},
   "outputs": [
    {
     "name": "stdout",
     "output_type": "stream",
     "text": [
      "100000 200000 300000 400000 \n",
      "Риды, при чтении которых возникла ошибка: 7\n",
      "Среднее покрытие:34.06491358129018\n",
      "Доля покрытия:1.0\n"
     ]
    },
    {
     "data": {
      "image/png": "[encoded data removed]",
      "text/plain": [
       "<Figure size 432x288 with 1 Axes>"
      ]
     },
     "metadata": {
      "needs_background": "light"
     },
     "output_type": "display_data"
    }
   ],
   "source": [
    "count_stats('data/2b/alignment_B.bam')"
   ]
  },
  {
   "cell_type": "markdown",
   "metadata": {},
   "source": [
    "### And another data"
   ]
  },
  {
   "cell_type": "code",
   "execution_count": null,
   "metadata": {},
   "outputs": [],
   "source": [
    "count_stats('data/2b/alignment_C.bam')"
   ]
  }
 ],
 "metadata": {
  "kernelspec": {
   "display_name": "Python 3",
   "language": "python",
   "name": "python3"
  },
  "language_info": {
   "codemirror_mode": {
    "name": "ipython",
    "version": 3
   },
   "file_extension": ".py",
   "mimetype": "text/x-python",
   "name": "python",
   "nbconvert_exporter": "python",
   "pygments_lexer": "ipython3",
   "version": "3.7.6"
  }
 },
 "nbformat": 4,
 "nbformat_minor": 2
}
