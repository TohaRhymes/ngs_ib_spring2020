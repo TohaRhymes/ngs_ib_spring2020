{
 "cells": [
  {
   "cell_type": "code",
   "execution_count": 50,
   "metadata": {},
   "outputs": [],
   "source": [
    "import Bio.bgzf as bgzf\n",
    "import pysam\n",
    "import numpy as np\n",
    "import matplotlib.pyplot as plt\n",
    "import matplotlib\n",
    "import statsmodels.stats.api as sms\n",
    "import seaborn as sns"
   ]
  },
  {
   "cell_type": "markdown",
   "metadata": {},
   "source": [
    "# Домашка 3. minimap\n",
    "### Данные\n",
    "https://drive.google.com/drive/folders/1pD7PKCDXm2FeUWNeSD40r4WxU0BGdSbR\n",
    "\n",
    "`ONT_2D.fastq.gz`\n",
    "\n",
    "`acbio_40x.fq.gz`\n",
    "\n",
    "Референсный геном: `reference.fasta`"
   ]
  },
  {
   "cell_type": "markdown",
   "metadata": {},
   "source": [
    "### 0. Разобраться с minimap2\n",
    "Запустить minimap2, определить процент приложившихся ридов (samtools flagstat).\n",
    "\n",
    "install minimap2:\n",
    "`\n",
    "curl -L https://github.com/lh3/minimap2/releases/download/v2.17/minimap2-2.17_x64-linux.tar.bz2 | tar -jxvf - ./minimap2-2.17_x64-linux/minimap2\n",
    "alias minimap2=~/minimap2-2.17_x64-linux/minimap2\n",
    "`"
   ]
  },
  {
   "cell_type": "markdown",
   "metadata": {},
   "source": [
    "### 1. Pacbio dataset\n",
    "\n",
    "Запустим minimap2:\n",
    "```\n",
    "$ minimap2 --MD -H -a -t 4 data/reference.fasta data/pacbio_40x.fq.gz > data/pacbio.sam\n",
    "[M::mm_idx_gen::0.167*1.02] collected minimizers\n",
    "[M::mm_idx_gen::0.224*1.75] sorted minimizers\n",
    "[M::main::0.224*1.75] loaded/built the index for 1 target sequence(s)\n",
    "[M::mm_mapopt_update::0.236*1.71] mid_occ = 12\n",
    "[M::mm_idx_stat] kmer size: 15; skip: 10; is_hpc: 1; #seq: 1\n",
    "[M::mm_idx_stat::0.244*1.69] distinct minimizers: 513422 (82.88% are singletons); average occurrences: 1.235; average spacing: 7.318\n",
    "[M::worker_pipeline::64.987*3.62] mapped 41447 sequences\n",
    "[M::main] Version: 2.17-r941\n",
    "[M::main] CMD: /home/toharhymes/minimap2-2.17_x64-linux/minimap2 --MD -H -a -t 4 data/reference.fasta data/pacbio_40x.fq.gz\n",
    "[M::main] Real time: 65.004 sec; CPU: 235.453 sec; Peak RSS: 1.681 GB\n",
    "\n",
    "$ samtools flagstat data/pacbio.sam\n",
    "52242 + 0 in total (QC-passed reads + QC-failed reads)\n",
    "1701 + 0 secondary\n",
    "9094 + 0 supplementary\n",
    "0 + 0 duplicates\n",
    "51645 + 0 mapped (98.86% : N/A)\n",
    "0 + 0 paired in sequencing\n",
    "0 + 0 read1\n",
    "0 + 0 read2\n",
    "0 + 0 properly paired (N/A : N/A)\n",
    "0 + 0 with itself and mate mapped\n",
    "0 + 0 singletons (N/A : N/A)\n",
    "0 + 0 with mate mapped to a different chr\n",
    "0 + 0 with mate mapped to a different chr (mapQ>=5)\n",
    "\n",
    "$ samtools view -S -b pacbio.sam > pacbio.bam\n",
    "\n",
    "```"
   ]
  },
  {
   "cell_type": "markdown",
   "metadata": {},
   "source": [
    "Хочу переписать функции из дз 2, так как там оч много чего коряво и костыльно (не знал многих методов)."
   ]
  },
  {
   "cell_type": "code",
   "execution_count": 71,
   "metadata": {},
   "outputs": [],
   "source": [
    "def read_bam(path_to_bam):\n",
    "    return pysam.AlignmentFile(path_to_bam, \"rb\")\n",
    "\n",
    "def read_sam(path_to_sam):\n",
    "    return pysam.AlignmentFile(path_to_sam, \"r\")"
   ]
  },
  {
   "cell_type": "code",
   "execution_count": 72,
   "metadata": {},
   "outputs": [],
   "source": [
    "def cov_stat(cov):\n",
    "    avg = np.mean(cov)\n",
    "    zero_amount = np.count_nonzero(a == 0)\n",
    "    part_of_cov = 1 - zero_amount/len(cov)\n",
    "    return avg, part_of_cov\n",
    "\n",
    "def draw_coverage(cov):\n",
    "    plt.plot([i*1000 for i in range(len(cov))], cov, linestyle=\"-\", color = 'red') \n",
    "    \n",
    "def count_cov(sam, step=10000):\n",
    "    ln_ref = sam.get_reference_length(sam.references[0])\n",
    "    starts = []\n",
    "    ends = []\n",
    "    for read in sam:\n",
    "            if not read.is_unmapped:\n",
    "                starts.append([read.reference_start, 'start'])\n",
    "                ends.append([read.reference_end, 'end'])\n",
    "    starts.sort()\n",
    "    ends.sort()\n",
    "    both = sorted(starts+ ends)\n",
    "    covs = []\n",
    "    cur_cov = 0\n",
    "    cur_pos = -1\n",
    "    for pos, start_or_end in both:\n",
    "        if cur_pos // step != pos // step:\n",
    "            cur_pos = pos\n",
    "            covs.append(cur_cov)\n",
    "        if start_or_end == 'start':\n",
    "            cur_cov += 1\n",
    "        else:\n",
    "            cur_cov -= 1\n",
    "    avg, part_of_cov = cov_stat(covs)\n",
    "    print('Среднее покрытие:', avg)\n",
    "    print('Доля покрытия', part_of_cov)\n",
    "    draw_coverage(covs)"
   ]
  },
  {
   "cell_type": "code",
   "execution_count": 77,
   "metadata": {},
   "outputs": [],
   "source": [
    "bam_file_pacbio = read_bam('data/pacbio.bam')"
   ]
  },
  {
   "cell_type": "code",
   "execution_count": 78,
   "metadata": {
    "scrolled": true
   },
   "outputs": [
    {
     "name": "stdout",
     "output_type": "stream",
     "text": [
      "Среднее покрытие: 40.525862068965516\n",
      "Доля покрытия 1.0\n"
     ]
    },
    {
     "data": {
      "image/png": "[encoded data removed]",
      "text/plain": [
       "<Figure size 432x288 with 1 Axes>"
      ]
     },
     "metadata": {
      "needs_background": "light"
     },
     "output_type": "display_data"
    }
   ],
   "source": [
    "count_cov(bam_file_pacbio)"
   ]
  },
  {
   "cell_type": "code",
   "execution_count": null,
   "metadata": {},
   "outputs": [],
   "source": []
  },
  {
   "cell_type": "markdown",
   "metadata": {},
   "source": [
    "### 2. Nanopore\n",
    "\n",
    "Запустим minimap2:\n",
    "```\n",
    "$ minimap2 --MD -a -t 4 data/reference.fasta data/ONT_2D.fastq.gz > data/ONT.sam\n",
    "[M::mm_idx_gen::0.151*1.02] collected minimizers\n",
    "[M::mm_idx_gen::0.226*1.97] sorted minimizers\n",
    "[M::main::0.226*1.97] loaded/built the index for 1 target sequence(s)\n",
    "[M::mm_mapopt_update::0.262*1.83] mid_occ = 11\n",
    "[M::mm_idx_stat] kmer size: 15; skip: 10; is_hpc: 0; #seq: 1\n",
    "[M::mm_idx_stat::0.274*1.80] distinct minimizers: 838533 (98.18% are singletons); average occurrences: 1.034; average spacing: 5.352\n",
    "[M::worker_pipeline::22.101*3.42] mapped 30810 sequences\n",
    "[M::main] Version: 2.17-r941\n",
    "[M::main] CMD: /home/toharhymes/minimap2-2.17_x64-linux/minimap2 --MD -a -t 4 data/reference.fasta data/ONT_2D.fastq.gz\n",
    "[M::main] Real time: 22.109 sec; CPU: 75.588 sec; Peak RSS: 1.062 GB\n",
    "\n",
    "$ samtools flagstat data/ONT.sam\n",
    "32103 + 0 in total (QC-passed reads + QC-failed reads)\n",
    "1072 + 0 secondary\n",
    "221 + 0 supplementary\n",
    "0 + 0 duplicates\n",
    "29565 + 0 mapped (92.09% : N/A)\n",
    "0 + 0 paired in sequencing\n",
    "0 + 0 read1\n",
    "0 + 0 read2\n",
    "0 + 0 properly paired (N/A : N/A)\n",
    "0 + 0 with itself and mate mapped\n",
    "0 + 0 singletons (N/A : N/A)\n",
    "0 + 0 with mate mapped to a different chr\n",
    "0 + 0 with mate mapped to a different chr (mapQ>=5)\n",
    "$ samtools view -S -b ONT.sam > ONT.bam\n",
    "\n",
    "```"
   ]
  },
  {
   "cell_type": "code",
   "execution_count": 79,
   "metadata": {},
   "outputs": [],
   "source": [
    "bam_file_ont = read_bam('data/ONT.bam')"
   ]
  },
  {
   "cell_type": "code",
   "execution_count": 80,
   "metadata": {},
   "outputs": [
    {
     "name": "stdout",
     "output_type": "stream",
     "text": [
      "Среднее покрытие: 28.316810344827587\n",
      "Доля покрытия 1.0\n"
     ]
    },
    {
     "data": {
      "image/png": "[encoded data removed]",
      "text/plain": [
       "<Figure size 432x288 with 1 Axes>"
      ]
     },
     "metadata": {
      "needs_background": "light"
     },
     "output_type": "display_data"
    }
   ],
   "source": [
    "count_cov(bam_file_ont)"
   ]
  },
  {
   "cell_type": "code",
   "execution_count": null,
   "metadata": {},
   "outputs": [],
   "source": []
  }
 ],
 "metadata": {
  "kernelspec": {
   "display_name": "Python 3",
   "language": "python",
   "name": "python3"
  },
  "language_info": {
   "codemirror_mode": {
    "name": "ipython",
    "version": 3
   },
   "file_extension": ".py",
   "mimetype": "text/x-python",
   "name": "python",
   "nbconvert_exporter": "python",
   "pygments_lexer": "ipython3",
   "version": "3.7.4"
  }
 },
 "nbformat": 4,
 "nbformat_minor": 2
}
