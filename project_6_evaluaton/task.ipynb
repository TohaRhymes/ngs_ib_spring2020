{
 "cells": [
  {
   "cell_type": "markdown",
   "metadata": {},
   "source": [
    "### Шестое домашнее задание. Оценка качества и сборка различных технологий\n",
    "\n",
    "<div style=\"text-align: right\">\n",
    "    Чангалиди Антон\n",
    "    </div>\n",
    "\n",
    "\n",
    "1. Сборка длинных ридов\n",
    "Соберите данные `PacBio` с разным покрытием любым понравившимся вам сборщиком, например, [Canu](https://github.com/marbl/canu/releases), [Flye](https://github.com/fenderglass/Flye) или [minasm](https://github.com/lh3/miniasm/releases). Учтите, что сборка последнего нуждается также в коррекции ошибок. \n",
    "\n",
    "Выберу Canu:\n",
    "\n",
    "Установка: `conda install -c conda-forge -c bioconda -c defaults canu`\n",
    "\n",
    "https://canu.readthedocs.io/en/latest/quick-start.html\n",
    "\n",
    "Написано, что Canu необходимо знать примерную длину генома, и организм. Из референсного файла я получаю информацию:"
   ]
  },
  {
   "cell_type": "code",
   "execution_count": 9,
   "metadata": {},
   "outputs": [
    {
     "name": "stdout",
     "output_type": "stream",
     "text": [
      "4706042 data/reference.fasta\n",
      ">gi|48994873|gb|U00096.2| Escherichia coli str. K-12 substr. MG1655, complete genome\n"
     ]
    }
   ],
   "source": [
    "!wc -m data/reference.fasta\n",
    "!cat data/reference.fasta | grep -e '>'"
   ]
  },
  {
   "cell_type": "markdown",
   "metadata": {},
   "source": [
    "4.7M, ну и это эшерихия коли.\n",
    "\n",
    "И запустим:\n",
    "`canu -p ecoli -d ecoli-pacbio genomeSize=4.7m -pacbio-raw data/pacbio_10x.fq`\n",
    "Оно вылетает с ошибкой по памяти((( не знаю что делать, попрошу друга."
   ]
  },
  {
   "cell_type": "markdown",
   "metadata": {},
   "source": [
    "2. Сборка коротких ридов\n",
    "Соберите данные `Illumina` любым понравившимся вам сборщиком.\n"
   ]
  },
  {
   "cell_type": "code",
   "execution_count": null,
   "metadata": {},
   "outputs": [],
   "source": []
  },
  {
   "cell_type": "markdown",
   "metadata": {},
   "source": [
    "3. Гибридная сборка \n",
    "Сделайте гибридную сборку `Illumina` и `PacBio` (с разным покрытием) любым понравившимся вам сборщиком.\n"
   ]
  },
  {
   "cell_type": "code",
   "execution_count": null,
   "metadata": {},
   "outputs": [],
   "source": []
  },
  {
   "cell_type": "markdown",
   "metadata": {},
   "source": [
    "4. Cравнение сборок\n",
    "Сравните все получившиеся сборки с помощью `QUAST` и данного референсного генома; интерпретируйте результаты. \n"
   ]
  }
 ],
 "metadata": {
  "kernelspec": {
   "display_name": "Python 3",
   "language": "python",
   "name": "python3"
  },
  "language_info": {
   "codemirror_mode": {
    "name": "ipython",
    "version": 3
   },
   "file_extension": ".py",
   "mimetype": "text/x-python",
   "name": "python",
   "nbconvert_exporter": "python",
   "pygments_lexer": "ipython3",
   "version": "3.7.6"
  }
 },
 "nbformat": 4,
 "nbformat_minor": 4
}
