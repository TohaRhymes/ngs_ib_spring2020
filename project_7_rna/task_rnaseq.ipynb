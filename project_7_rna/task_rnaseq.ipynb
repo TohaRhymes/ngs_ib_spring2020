{
 "cells": [
  {
   "cell_type": "markdown",
   "metadata": {},
   "source": [
    "# RNA-seq analysis.\n",
    "\n",
    "* Data:\n",
    "`data/SRR453566_*.fastq`\n",
    "* Genome:\n",
    "`data/ref.fa`\n",
    "* Base of genes:\n",
    "`data/genes.gtf`\n",
    "\n",
    "\n",
    "### 1. Выравнивание ридов RNA-Seq\n",
    "Приложить риды RNA-Seq на геном (можно с использованием базы генов) с помощью программ HISAT2 или STAR (на выбор).\n"
   ]
  },
  {
   "cell_type": "code",
   "execution_count": 12,
   "metadata": {},
   "outputs": [
    {
     "name": "stdout",
     "output_type": "stream",
     "text": [
      "Settings:\n",
      "  Output files: \"data/index.*.ht2\"\n",
      "  Line rate: 6 (line is 64 bytes)\n",
      "  Lines per side: 1 (side is 64 bytes)\n",
      "  Offset rate: 4 (one in 16)\n",
      "  FTable chars: 10\n",
      "  Strings: unpacked\n",
      "  Local offset rate: 3 (one in 8)\n",
      "  Local fTable chars: 6\n",
      "  Local sequence length: 57344\n",
      "  Local sequence overlap between two consecutive indexes: 1024\n",
      "  Endianness: little\n",
      "  Actual local endianness: little\n",
      "  Sanity checking: disabled\n",
      "  Assertions: disabled\n",
      "  Random seed: 0\n",
      "  Sizeofs: void*:8, int:4, long:8, size_t:8\n",
      "Input files DNA, FASTA:\n",
      "  data/ref.fa\n",
      "Reading reference sizes\n",
      "  Time reading reference sizes: 00:00:00\n",
      "Calculating joined length\n",
      "Writing header\n",
      "Reserving space for joined string\n",
      "Joining reference sequences\n",
      "  Time to join reference sequences: 00:00:00\n",
      "  Time to read SNPs and splice sites: 00:00:00\n",
      "Using parameters --bmax 2279457 --dcv 1024\n",
      "  Doing ahead-of-time memory usage test\n",
      "  Passed!  Constructing with these parameters: --bmax 2279457 --dcv 1024\n",
      "Constructing suffix-array element generator\n",
      "Building DifferenceCoverSample\n",
      "  Building sPrime\n",
      "  Building sPrimeOrder\n",
      "  V-Sorting samples\n",
      "  V-Sorting samples time: 00:00:00\n",
      "  Allocating rank array\n",
      "  Ranking v-sort output\n",
      "  Ranking v-sort output time: 00:00:00\n",
      "  Invoking Larsson-Sadakane on ranks\n",
      "  Invoking Larsson-Sadakane on ranks time: 00:00:00\n",
      "  Sanity-checking and returning\n",
      "Building samples\n",
      "Reserving space for 12 sample suffixes\n",
      "Generating random suffixes\n",
      "QSorting 12 sample offsets, eliminating duplicates\n",
      "QSorting sample offsets, eliminating duplicates time: 00:00:00\n",
      "Multikey QSorting 12 samples\n",
      "  (Using difference cover)\n",
      "  Multikey QSorting samples time: 00:00:00\n",
      "Calculating bucket sizes\n",
      "Splitting and merging\n",
      "  Splitting and merging time: 00:00:00\n",
      "Split 1, merged 5; iterating...\n",
      "Splitting and merging\n",
      "  Splitting and merging time: 00:00:00\n",
      "Avg bucket size: 1.51964e+06 (target: 2279456)\n",
      "Converting suffix-array elements to index image\n",
      "Allocating ftab, absorbFtab\n",
      "Entering GFM loop\n",
      "Getting block 1 of 8\n",
      "  Reserving size (2279457) for bucket 1\n",
      "  Calculating Z arrays for bucket 1\n",
      "Getting block 2 of 8\n",
      "  Reserving size (2279457) for bucket 2\n",
      "  Entering block accumulator loop for bucket 1:\n",
      "Getting block 3 of 8\n",
      "  Reserving size (2279457) for bucket 3\n",
      "  Calculating Z arrays for bucket 3\n",
      "Getting block 4 of 8\n",
      "  Reserving size (2279457) for bucket 4\n",
      "  Entering block accumulator loop for bucket 3:\n",
      "  Calculating Z arrays for bucket 2\n",
      "  Entering block accumulator loop for bucket 2:\n",
      "  Calculating Z arrays for bucket 4\n",
      "  Entering block accumulator loop for bucket 4:\n",
      "Getting block 5 of 8\n",
      "  Reserving size (2279457) for bucket 5\n",
      "Getting block 6 of 8\n",
      "  Reserving size (2279457) for bucket 6\n",
      "  Calculating Z arrays for bucket 5\n",
      "  Calculating Z arrays for bucket 6\n",
      "Getting block 7 of 8\n",
      "  Reserving size (2279457) for bucket 7\n",
      "Getting block 8 of 8\n",
      "  Reserving size (2279457) for bucket 8\n",
      "  Calculating Z arrays for bucket 7\n",
      "  Entering block accumulator loop for bucket 5:\n",
      "  Entering block accumulator loop for bucket 7:\n",
      "  Entering block accumulator loop for bucket 6:\n",
      "  Calculating Z arrays for bucket 8\n",
      "  Entering block accumulator loop for bucket 8:\n",
      "  bucket 1: 10%\n",
      "  bucket 2: 10%\n",
      "  bucket 3: 10%\n",
      "  bucket 4: 10%\n",
      "  bucket 5: 10%\n",
      "  bucket 8: 10%\n",
      "  bucket 6: 10%\n",
      "  bucket 7: 10%\n",
      "  bucket 1: 20%\n",
      "  bucket 2: 20%\n",
      "  bucket 3: 20%\n",
      "  bucket 4: 20%\n",
      "  bucket 8: 20%\n",
      "  bucket 7: 20%\n",
      "  bucket 3: 30%\n",
      "  bucket 2: 30%\n",
      "  bucket 1: 30%\n",
      "  bucket 4: 30%\n",
      "  bucket 5: 20%\n",
      "  bucket 6: 20%\n",
      "  bucket 8: 30%\n",
      "  bucket 2: 40%\n",
      "  bucket 3: 40%\n",
      "  bucket 4: 40%\n",
      "  bucket 1: 40%\n",
      "  bucket 7: 30%\n",
      "  bucket 6: 30%\n",
      "  bucket 5: 30%\n",
      "  bucket 2: 50%\n",
      "  bucket 8: 40%\n",
      "  bucket 4: 50%\n",
      "  bucket 3: 50%\n",
      "  bucket 1: 50%\n",
      "  bucket 7: 40%\n",
      "  bucket 2: 60%\n",
      "  bucket 1: 60%\n",
      "  bucket 4: 60%\n",
      "  bucket 8: 50%\n",
      "  bucket 6: 40%\n",
      "  bucket 3: 60%\n",
      "  bucket 5: 40%\n",
      "  bucket 7: 50%\n",
      "  bucket 1: 70%\n",
      "  bucket 2: 70%\n",
      "  bucket 4: 70%\n",
      "  bucket 1: 80%\n",
      "  bucket 5: 50%\n",
      "  bucket 2: 80%\n",
      "  bucket 7: 60%\n",
      "  bucket 8: 60%\n",
      "  bucket 6: 50%\n",
      "  bucket 3: 70%\n",
      "  bucket 1: 90%\n",
      "  bucket 4: 80%\n",
      "  bucket 5: 60%\n",
      "  bucket 8: 70%\n",
      "  bucket 2: 90%\n",
      "  bucket 1: 100%\n",
      "  Sorting block of length 1402478 for bucket 1\n",
      "  (Using difference cover)\n",
      "  bucket 7: 70%\n",
      "  bucket 3: 80%\n",
      "  bucket 5: 70%\n",
      "  bucket 6: 60%\n",
      "  bucket 8: 80%\n",
      "  bucket 2: 100%\n",
      "  Sorting block of length 1969791 for bucket 2\n",
      "  (Using difference cover)\n",
      "  bucket 4: 90%\n",
      "  bucket 7: 80%\n",
      "  bucket 8: 90%\n",
      "  bucket 3: 90%\n",
      "  bucket 5: 80%\n",
      "  bucket 8: 100%\n",
      "  Sorting block of length 991216 for bucket 8\n",
      "  (Using difference cover)\n",
      "  bucket 7: 90%\n",
      "  bucket 6: 70%\n",
      "  bucket 5: 90%\n",
      "  bucket 4: 100%\n",
      "  Sorting block of length 1309547 for bucket 4\n",
      "  (Using difference cover)\n",
      "  bucket 3: 100%\n",
      "  Sorting block of length 1806367 for bucket 3\n",
      "  (Using difference cover)\n",
      "  bucket 7: 100%\n",
      "  Sorting block of length 1421401 for bucket 7\n",
      "  (Using difference cover)\n",
      "  bucket 6: 80%\n",
      "  bucket 5: 100%\n",
      "  Sorting block of length 1717347 for bucket 5\n",
      "  (Using difference cover)\n",
      "  bucket 6: 90%\n",
      "  bucket 6: 100%\n",
      "  Sorting block of length 1538951 for bucket 6\n",
      "  (Using difference cover)\n",
      "  Sorting block time: 00:00:01\n",
      "Returning block of 991217 for bucket 8\n",
      "  Sorting block time: 00:00:01\n",
      "Returning block of 1402479 for bucket 1\n",
      "  Sorting block time: 00:00:01\n",
      "Returning block of 1421402 for bucket 7\n",
      "  Sorting block time: 00:00:01\n",
      "Returning block of 1309548 for bucket 4\n",
      "  Sorting block time: 00:00:02\n",
      "Returning block of 1538952 for bucket 6\n",
      "  Sorting block time: 00:00:02\n",
      "Returning block of 1806368 for bucket 3\n",
      "  Sorting block time: 00:00:02\n",
      "Returning block of 1969792 for bucket 2\n",
      "  Sorting block time: 00:00:02\n",
      "Returning block of 1717348 for bucket 5\n",
      "Exited GFM loop\n",
      "fchr[A]: 0\n",
      "fchr[C]: 3766349\n",
      "fchr[G]: 6086925\n",
      "fchr[T]: 8404025\n",
      "fchr[$]: 12157105\n",
      "Exiting GFM::buildToDisk()\n",
      "Returning from initFromVector\n",
      "Wrote 8248111 bytes to primary GFM file: data/index.1.ht2\n",
      "Wrote 3039284 bytes to secondary GFM file: data/index.2.ht2\n",
      "Re-opening _in1 and _in2 as input streams\n",
      "Returning from GFM constructor\n",
      "Returning from initFromVector\n",
      "Wrote 5399069 bytes to primary GFM file: data/index.5.ht2\n",
      "Wrote 3092708 bytes to secondary GFM file: data/index.6.ht2\n",
      "Re-opening _in5 and _in5 as input streams\n",
      "Returning from HierEbwt constructor\n",
      "Headers:\n",
      "    len: 12157105\n",
      "    gbwtLen: 12157106\n",
      "    nodes: 12157106\n",
      "    sz: 3039277\n",
      "    gbwtSz: 3039277\n",
      "    lineRate: 6\n",
      "    offRate: 4\n",
      "    offMask: 0xfffffff0\n",
      "    ftabChars: 10\n",
      "    eftabLen: 0\n",
      "    eftabSz: 0\n",
      "    ftabLen: 1048577\n",
      "    ftabSz: 4194308\n",
      "    offsLen: 759820\n",
      "    offsSz: 3039280\n",
      "    lineSz: 64\n",
      "    sideSz: 64\n",
      "    sideGbwtSz: 48\n",
      "    sideGbwtLen: 192\n",
      "    numSides: 63319\n",
      "    numLines: 63319\n",
      "    gbwtTotLen: 4052416\n",
      "    gbwtTotSz: 4052416\n",
      "    reverse: 0\n",
      "    linearFM: Yes\n",
      "Total time for call to driver() for forward index: 00:00:05\n"
     ]
    }
   ],
   "source": [
    "!hisat2-build -p 8 data/ref.fa data/index"
   ]
  },
  {
   "cell_type": "code",
   "execution_count": 15,
   "metadata": {},
   "outputs": [
    {
     "name": "stdout",
     "output_type": "stream",
     "text": [
      "5725730 reads; of these:\n",
      "  5725730 (100.00%) were paired; of these:\n",
      "    1205178 (21.05%) aligned concordantly 0 times\n",
      "    4286523 (74.86%) aligned concordantly exactly 1 time\n",
      "    234029 (4.09%) aligned concordantly >1 times\n",
      "    ----\n",
      "    1205178 pairs aligned concordantly 0 times; of these:\n",
      "      136556 (11.33%) aligned discordantly 1 time\n",
      "    ----\n",
      "    1068622 pairs aligned 0 times concordantly or discordantly; of these:\n",
      "      2137244 mates make up the pairs; of these:\n",
      "        1449781 (67.83%) aligned 0 times\n",
      "        637418 (29.82%) aligned exactly 1 time\n",
      "        50045 (2.34%) aligned >1 times\n",
      "87.34% overall alignment rate\n",
      "[bam_sort_core] merging from 4 files and 1 in-memory blocks...\n"
     ]
    }
   ],
   "source": [
    "!hisat2 -p 8 -x data/index -1 data/SRR453566_1.fastq -2 data/SRR453566_2.fastq | samtools sort > data/out.bam"
   ]
  },
  {
   "cell_type": "markdown",
   "metadata": {},
   "source": [
    "### 2. Оценка количества экспрессирующихся генов\n",
    "По полученному SAM файлу и базе генов оценить процент экспрессирующихся генов. Какая часть гена должна быть покрыта и какая глубина должна быть чтобы он считался таковым, решите сами. Можно взять, к примеру, 95%. Глубину (экспрессию) лучше всего мерить в величинах FPKM или TPM.\n",
    "\n",
    "* FPKM (Fragments Per Kilobase Million)\n",
    "* TPM (Transcripts Per Million)\n",
    "\n",
    "https://www.rna-seqblog.com/rpkm-fpkm-and-tpm-clearly-explained/\n",
    "\n",
    "https://haroldpimentel.wordpress.com/2014/05/08/what-the-fpkm-a-review-rna-seq-expression-units/\n"
   ]
  },
  {
   "cell_type": "code",
   "execution_count": 25,
   "metadata": {},
   "outputs": [
    {
     "name": "stdout",
     "output_type": "stream",
     "text": [
      "\n",
      "       \u001b[44;37m ========== \u001b[0m\u001b[36m    _____ _    _ ____  _____  ______          _____  \n",
      "       \u001b[44;37m =====      \u001b[0m\u001b[36m   / ____| |  | |  _ \\|  __ \\|  ____|   /\\   |  __ \\ \n",
      "       \u001b[44;37m   =====    \u001b[0m\u001b[36m  | (___ | |  | | |_) | |__) | |__     /  \\  | |  | |\n",
      "       \u001b[44;37m     ====   \u001b[0m\u001b[36m   \\___ \\| |  | |  _ <|  _  /|  __|   / /\\ \\ | |  | |\n",
      "       \u001b[44;37m       ==== \u001b[0m\u001b[36m   ____) | |__| | |_) | | \\ \\| |____ / ____ \\| |__| |\n",
      "       \u001b[44;37m ========== \u001b[0m\u001b[36m  |_____/ \\____/|____/|_|  \\_\\______/_/    \\_\\_____/\u001b[0m\n",
      "\t  v1.6.0\n",
      "\n",
      "//==========================\u001b[36m featureCounts setting \u001b[0m===========================\\\\\n",
      "||  \u001b[0m                                                                          ||\n",
      "||             Input files : \u001b[36m1 BAM file  \u001b[0m \u001b[0m                                    ||\n",
      "||                           \u001b[32mP\u001b[36m data/out.bam\u001b[0m \u001b[0m                                  ||\n",
      "||  \u001b[0m                                                                          ||\n",
      "||             Output file : \u001b[36mdata/quantifying\u001b[0m \u001b[0m                                ||\n",
      "||                 Summary : \u001b[36mdata/quantifying.summary\u001b[0m \u001b[0m                        ||\n",
      "||              Annotation : \u001b[36mdata/genes.gtf (GTF)\u001b[0m \u001b[0m                            ||\n",
      "||      Dir for temp files : \u001b[36mdata\u001b[0m \u001b[0m                                            ||\n",
      "||  \u001b[0m                                                                          ||\n",
      "||                 Threads : \u001b[36m1\u001b[0m \u001b[0m                                               ||\n",
      "||                   Level : \u001b[36mmeta-feature level\u001b[0m \u001b[0m                              ||\n",
      "||              Paired-end : \u001b[36mno\u001b[0m \u001b[0m                                              ||\n",
      "||         Strand specific : \u001b[36mno\u001b[0m \u001b[0m                                              ||\n",
      "||      Multimapping reads : \u001b[36mnot counted\u001b[0m \u001b[0m                                     ||\n",
      "|| Multi-overlapping reads : \u001b[36mnot counted\u001b[0m \u001b[0m                                     ||\n",
      "||   Min overlapping bases : \u001b[36m1\u001b[0m \u001b[0m                                               ||\n",
      "||  \u001b[0m                                                                          ||\n",
      "\\\\=====================\u001b[36m http://subread.sourceforge.net/ \u001b[0m======================//\n",
      "\n",
      "//=================================\u001b[36m Running \u001b[0m==================================\\\\\n",
      "||  \u001b[0m                                                                          ||\n",
      "|| Load annotation file data/genes.gtf \u001b[0m... \u001b[0m                                   ||\n",
      "||    Features : \u001b[36m7553\u001b[0m \u001b[0m                                                        ||\n",
      "||    Meta-features : \u001b[36m7126\u001b[0m \u001b[0m                                                   ||\n",
      "||    Chromosomes/contigs : \u001b[36m17\u001b[0m \u001b[0m                                               ||\n",
      "||  \u001b[0m                                                                          ||\n",
      "|| Process BAM file data/out.bam... \u001b[0m                                          ||\n",
      "||    Paired-end reads are included. \u001b[0m                                         ||\n",
      "||    Assign reads to features... \u001b[0m                                            ||\n",
      "||    Total reads : \u001b[36m12392255\u001b[0m \u001b[0m                                                 ||\n",
      "||    Successfully assigned reads : \u001b[36m8601545 (69.4%)\u001b[0m \u001b[0m                          ||\n",
      "||    Running time : \u001b[36m0.31 minutes\u001b[0m \u001b[0m                                            ||\n",
      "||  \u001b[0m                                                                          ||\n",
      "||                         \u001b[36mRead assignment finished.\u001b[0m \u001b[0m                         ||\n",
      "||  \u001b[0m                                                                          ||\n",
      "|| Summary of counting results can be found in file \"data/quantifying.summar \u001b[0m ||\n",
      "|| y\" \u001b[0m                                                                        ||\n",
      "||  \u001b[0m                                                                          ||\n",
      "\\\\=====================\u001b[36m http://subread.sourceforge.net/ \u001b[0m======================//\n",
      "\n"
     ]
    }
   ],
   "source": [
    "!featureCounts -a data/genes.gtf -o data/quantifying data/out.bam"
   ]
  },
  {
   "cell_type": "code",
   "execution_count": 1,
   "metadata": {},
   "outputs": [],
   "source": [
    "import pandas as pd\n",
    "import seaborn as sns"
   ]
  },
  {
   "cell_type": "code",
   "execution_count": 2,
   "metadata": {
    "scrolled": true
   },
   "outputs": [
    {
     "data": {
      "text/html": [
       "<div>\n",
       "<style scoped>\n",
       "    .dataframe tbody tr th:only-of-type {\n",
       "        vertical-align: middle;\n",
       "    }\n",
       "\n",
       "    .dataframe tbody tr th {\n",
       "        vertical-align: top;\n",
       "    }\n",
       "\n",
       "    .dataframe thead th {\n",
       "        text-align: right;\n",
       "    }\n",
       "</style>\n",
       "<table border=\"1\" class=\"dataframe\">\n",
       "  <thead>\n",
       "    <tr style=\"text-align: right;\">\n",
       "      <th></th>\n",
       "      <th>Geneid</th>\n",
       "      <th>Chr</th>\n",
       "      <th>Start</th>\n",
       "      <th>End</th>\n",
       "      <th>Strand</th>\n",
       "      <th>Length</th>\n",
       "      <th>data/out.bam</th>\n",
       "    </tr>\n",
       "  </thead>\n",
       "  <tbody>\n",
       "    <tr>\n",
       "      <th>0</th>\n",
       "      <td>YDL248W</td>\n",
       "      <td>IV</td>\n",
       "      <td>1802</td>\n",
       "      <td>2953</td>\n",
       "      <td>+</td>\n",
       "      <td>1152</td>\n",
       "      <td>584</td>\n",
       "    </tr>\n",
       "    <tr>\n",
       "      <th>1</th>\n",
       "      <td>YDL247W-A</td>\n",
       "      <td>IV</td>\n",
       "      <td>3762</td>\n",
       "      <td>3836</td>\n",
       "      <td>+</td>\n",
       "      <td>75</td>\n",
       "      <td>10</td>\n",
       "    </tr>\n",
       "    <tr>\n",
       "      <th>2</th>\n",
       "      <td>YDL247W</td>\n",
       "      <td>IV</td>\n",
       "      <td>5985</td>\n",
       "      <td>7814</td>\n",
       "      <td>+</td>\n",
       "      <td>1830</td>\n",
       "      <td>18</td>\n",
       "    </tr>\n",
       "    <tr>\n",
       "      <th>3</th>\n",
       "      <td>YDL246C</td>\n",
       "      <td>IV</td>\n",
       "      <td>8683</td>\n",
       "      <td>9756</td>\n",
       "      <td>-</td>\n",
       "      <td>1074</td>\n",
       "      <td>15</td>\n",
       "    </tr>\n",
       "    <tr>\n",
       "      <th>4</th>\n",
       "      <td>YDL245C</td>\n",
       "      <td>IV</td>\n",
       "      <td>11657</td>\n",
       "      <td>13360</td>\n",
       "      <td>-</td>\n",
       "      <td>1704</td>\n",
       "      <td>42</td>\n",
       "    </tr>\n",
       "  </tbody>\n",
       "</table>\n",
       "</div>"
      ],
      "text/plain": [
       "      Geneid Chr  Start    End Strand  Length  data/out.bam\n",
       "0    YDL248W  IV   1802   2953      +    1152           584\n",
       "1  YDL247W-A  IV   3762   3836      +      75            10\n",
       "2    YDL247W  IV   5985   7814      +    1830            18\n",
       "3    YDL246C  IV   8683   9756      -    1074            15\n",
       "4    YDL245C  IV  11657  13360      -    1704            42"
      ]
     },
     "execution_count": 2,
     "metadata": {},
     "output_type": "execute_result"
    }
   ],
   "source": [
    "data = pd.read_csv('data/quantifying', sep='\\t', skiprows=1)\n",
    "data.head()"
   ]
  },
  {
   "cell_type": "markdown",
   "metadata": {},
   "source": [
    "data/out.bam - покрытие"
   ]
  },
  {
   "cell_type": "code",
   "execution_count": 3,
   "metadata": {},
   "outputs": [
    {
     "data": {
      "text/html": [
       "<div>\n",
       "<style scoped>\n",
       "    .dataframe tbody tr th:only-of-type {\n",
       "        vertical-align: middle;\n",
       "    }\n",
       "\n",
       "    .dataframe tbody tr th {\n",
       "        vertical-align: top;\n",
       "    }\n",
       "\n",
       "    .dataframe thead th {\n",
       "        text-align: right;\n",
       "    }\n",
       "</style>\n",
       "<table border=\"1\" class=\"dataframe\">\n",
       "  <thead>\n",
       "    <tr style=\"text-align: right;\">\n",
       "      <th></th>\n",
       "      <th>Geneid</th>\n",
       "      <th>Chr</th>\n",
       "      <th>Start</th>\n",
       "      <th>End</th>\n",
       "      <th>Strand</th>\n",
       "      <th>Length</th>\n",
       "      <th>coverage</th>\n",
       "    </tr>\n",
       "  </thead>\n",
       "  <tbody>\n",
       "    <tr>\n",
       "      <th>0</th>\n",
       "      <td>YDL248W</td>\n",
       "      <td>IV</td>\n",
       "      <td>1802</td>\n",
       "      <td>2953</td>\n",
       "      <td>+</td>\n",
       "      <td>1152</td>\n",
       "      <td>584</td>\n",
       "    </tr>\n",
       "    <tr>\n",
       "      <th>1</th>\n",
       "      <td>YDL247W-A</td>\n",
       "      <td>IV</td>\n",
       "      <td>3762</td>\n",
       "      <td>3836</td>\n",
       "      <td>+</td>\n",
       "      <td>75</td>\n",
       "      <td>10</td>\n",
       "    </tr>\n",
       "    <tr>\n",
       "      <th>2</th>\n",
       "      <td>YDL247W</td>\n",
       "      <td>IV</td>\n",
       "      <td>5985</td>\n",
       "      <td>7814</td>\n",
       "      <td>+</td>\n",
       "      <td>1830</td>\n",
       "      <td>18</td>\n",
       "    </tr>\n",
       "    <tr>\n",
       "      <th>3</th>\n",
       "      <td>YDL246C</td>\n",
       "      <td>IV</td>\n",
       "      <td>8683</td>\n",
       "      <td>9756</td>\n",
       "      <td>-</td>\n",
       "      <td>1074</td>\n",
       "      <td>15</td>\n",
       "    </tr>\n",
       "    <tr>\n",
       "      <th>4</th>\n",
       "      <td>YDL245C</td>\n",
       "      <td>IV</td>\n",
       "      <td>11657</td>\n",
       "      <td>13360</td>\n",
       "      <td>-</td>\n",
       "      <td>1704</td>\n",
       "      <td>42</td>\n",
       "    </tr>\n",
       "  </tbody>\n",
       "</table>\n",
       "</div>"
      ],
      "text/plain": [
       "      Geneid Chr  Start    End Strand  Length  coverage\n",
       "0    YDL248W  IV   1802   2953      +    1152       584\n",
       "1  YDL247W-A  IV   3762   3836      +      75        10\n",
       "2    YDL247W  IV   5985   7814      +    1830        18\n",
       "3    YDL246C  IV   8683   9756      -    1074        15\n",
       "4    YDL245C  IV  11657  13360      -    1704        42"
      ]
     },
     "execution_count": 3,
     "metadata": {},
     "output_type": "execute_result"
    }
   ],
   "source": [
    "data.rename(columns={'data/out.bam': 'coverage'}, inplace=True)\n",
    "data.head()"
   ]
  },
  {
   "cell_type": "code",
   "execution_count": 4,
   "metadata": {},
   "outputs": [
    {
     "data": {
      "text/html": [
       "<div>\n",
       "<style scoped>\n",
       "    .dataframe tbody tr th:only-of-type {\n",
       "        vertical-align: middle;\n",
       "    }\n",
       "\n",
       "    .dataframe tbody tr th {\n",
       "        vertical-align: top;\n",
       "    }\n",
       "\n",
       "    .dataframe thead th {\n",
       "        text-align: right;\n",
       "    }\n",
       "</style>\n",
       "<table border=\"1\" class=\"dataframe\">\n",
       "  <thead>\n",
       "    <tr style=\"text-align: right;\">\n",
       "      <th></th>\n",
       "      <th>Geneid</th>\n",
       "      <th>Chr</th>\n",
       "      <th>Start</th>\n",
       "      <th>End</th>\n",
       "      <th>Strand</th>\n",
       "      <th>Length</th>\n",
       "      <th>coverage</th>\n",
       "      <th>fpkm</th>\n",
       "      <th>tpm</th>\n",
       "    </tr>\n",
       "  </thead>\n",
       "  <tbody>\n",
       "    <tr>\n",
       "      <th>0</th>\n",
       "      <td>YDL248W</td>\n",
       "      <td>IV</td>\n",
       "      <td>1802</td>\n",
       "      <td>2953</td>\n",
       "      <td>+</td>\n",
       "      <td>1152</td>\n",
       "      <td>584</td>\n",
       "      <td>58.936440</td>\n",
       "      <td>49.905016</td>\n",
       "    </tr>\n",
       "    <tr>\n",
       "      <th>1</th>\n",
       "      <td>YDL247W-A</td>\n",
       "      <td>IV</td>\n",
       "      <td>3762</td>\n",
       "      <td>3836</td>\n",
       "      <td>+</td>\n",
       "      <td>75</td>\n",
       "      <td>10</td>\n",
       "      <td>15.501091</td>\n",
       "      <td>13.125703</td>\n",
       "    </tr>\n",
       "    <tr>\n",
       "      <th>2</th>\n",
       "      <td>YDL247W</td>\n",
       "      <td>IV</td>\n",
       "      <td>5985</td>\n",
       "      <td>7814</td>\n",
       "      <td>+</td>\n",
       "      <td>1830</td>\n",
       "      <td>18</td>\n",
       "      <td>1.143523</td>\n",
       "      <td>0.968290</td>\n",
       "    </tr>\n",
       "    <tr>\n",
       "      <th>3</th>\n",
       "      <td>YDL246C</td>\n",
       "      <td>IV</td>\n",
       "      <td>8683</td>\n",
       "      <td>9756</td>\n",
       "      <td>-</td>\n",
       "      <td>1074</td>\n",
       "      <td>15</td>\n",
       "      <td>1.623718</td>\n",
       "      <td>1.374899</td>\n",
       "    </tr>\n",
       "    <tr>\n",
       "      <th>4</th>\n",
       "      <td>YDL245C</td>\n",
       "      <td>IV</td>\n",
       "      <td>11657</td>\n",
       "      <td>13360</td>\n",
       "      <td>-</td>\n",
       "      <td>1704</td>\n",
       "      <td>42</td>\n",
       "      <td>2.865519</td>\n",
       "      <td>2.426406</td>\n",
       "    </tr>\n",
       "  </tbody>\n",
       "</table>\n",
       "</div>"
      ],
      "text/plain": [
       "      Geneid Chr  Start    End Strand  Length  coverage       fpkm        tpm\n",
       "0    YDL248W  IV   1802   2953      +    1152       584  58.936440  49.905016\n",
       "1  YDL247W-A  IV   3762   3836      +      75        10  15.501091  13.125703\n",
       "2    YDL247W  IV   5985   7814      +    1830        18   1.143523   0.968290\n",
       "3    YDL246C  IV   8683   9756      -    1074        15   1.623718   1.374899\n",
       "4    YDL245C  IV  11657  13360      -    1704        42   2.865519   2.426406"
      ]
     },
     "execution_count": 4,
     "metadata": {},
     "output_type": "execute_result"
    }
   ],
   "source": [
    "data['fpkm'] = data['coverage']/(data['coverage'].sum()/10**6)/(data['Length']/10**3)\n",
    "data['tpm'] =  data['coverage']/(data['Length']/10**3)\n",
    "data['tpm'] /= (data['tpm'].sum()/10**6)\n",
    "data.head() "
   ]
  },
  {
   "cell_type": "markdown",
   "metadata": {},
   "source": [
    "Так как TPM используется для сравнения разных сэмплов, а у нас по сути 1 сэмпл. Возьму FPKM. "
   ]
  },
  {
   "cell_type": "code",
   "execution_count": 5,
   "metadata": {},
   "outputs": [
    {
     "data": {
      "text/plain": [
       "<matplotlib.axes._subplots.AxesSubplot at 0x7fdfd8cb1cd0>"
      ]
     },
     "execution_count": 5,
     "metadata": {},
     "output_type": "execute_result"
    },
    {
     "data": {
      "image/png": "[encoded data removed]",
      "text/plain": [
       "<Figure size 432x288 with 1 Axes>"
      ]
     },
     "metadata": {
      "needs_background": "light"
     },
     "output_type": "display_data"
    }
   ],
   "source": [
    "sns.distplot(data.fpkm)"
   ]
  },
  {
   "cell_type": "code",
   "execution_count": 6,
   "metadata": {},
   "outputs": [
    {
     "data": {
      "text/plain": [
       "<matplotlib.axes._subplots.AxesSubplot at 0x7fdfd4300910>"
      ]
     },
     "execution_count": 6,
     "metadata": {},
     "output_type": "execute_result"
    },
    {
     "data": {
      "image/png": "[encoded data removed]",
      "text/plain": [
       "<Figure size 432x288 with 1 Axes>"
      ]
     },
     "metadata": {
      "needs_background": "light"
     },
     "output_type": "display_data"
    }
   ],
   "source": [
    "sns.distplot(data[data.fpkm<50].fpkm)"
   ]
  },
  {
   "cell_type": "markdown",
   "metadata": {},
   "source": [
    "Возьму трешхолд = 5, так как вот меньше его есть пик, а дальше все +- ок"
   ]
  },
  {
   "cell_type": "code",
   "execution_count": 7,
   "metadata": {},
   "outputs": [
    {
     "name": "stdout",
     "output_type": "stream",
     "text": [
      "Хорошо экспрессируется 81.43418467583497% генов;\n",
      "Количественно: 5803 из 7126\n"
     ]
    }
   ],
   "source": [
    "good_fpkm = 5\n",
    "print(f'Хорошо экспрессируется {data[data.fpkm>good_fpkm].shape[0]/data.shape[0]*100}% генов;\\nКоличественно: {data[data.fpkm>good_fpkm].shape[0]} из {data.shape[0]}')"
   ]
  },
  {
   "cell_type": "markdown",
   "metadata": {},
   "source": [
    "### 3. Сборка de novo\n",
    "Соберите риды с нуля любым RNA-Seq сборщиком (например Trinity или rnaSPAdes), запустите на полученных контигах rnaQUAST. Сравните количество покрытых генов с результатом, полученным в задании 2.\n",
    "\n",
    "`rnaspades -t 1 -m 8 -1 data/SRR453566_1.fastq -2 data/SRR453566_2.fastq -o data/rna_assembling`\n",
    "\n",
    "`rnaquast -t 8 --transcripts data/rna_assembling/transcripts.fasta --reference data/ref.fa --gtf data/genes.gtf`\n",
    "\n",
    "Отчет по сборке лежат в папке `quast_reports/`\n",
    "\n",
    "![](quast_reports/report.png)\n"
   ]
  },
  {
   "cell_type": "markdown",
   "metadata": {},
   "source": [
    "Что видим? Генов столько же - 7126. Найдено транскриптов 6264, похоже на то число, какое у нас было в пунктике выше. Если убрать сильно мелкие, то получится лучше (например, >500 оснований их уже 4600).\n",
    "Но если посмотреть по покрытым генам, то тут поменьше их количество. Переделаю немножко пункт 2, учитывая покрытие:"
   ]
  },
  {
   "cell_type": "code",
   "execution_count": 8,
   "metadata": {},
   "outputs": [
    {
     "data": {
      "text/plain": [
       "<matplotlib.axes._subplots.AxesSubplot at 0x7fdfd4281f10>"
      ]
     },
     "execution_count": 8,
     "metadata": {},
     "output_type": "execute_result"
    },
    {
     "data": {
      "image/png": "[encoded data removed]",
      "text/plain": [
       "<Figure size 432x288 with 1 Axes>"
      ]
     },
     "metadata": {
      "needs_background": "light"
     },
     "output_type": "display_data"
    }
   ],
   "source": [
    "sns.distplot(data.coverage)"
   ]
  },
  {
   "cell_type": "code",
   "execution_count": 9,
   "metadata": {},
   "outputs": [
    {
     "data": {
      "text/plain": [
       "<matplotlib.axes._subplots.AxesSubplot at 0x7fdfd4195bd0>"
      ]
     },
     "execution_count": 9,
     "metadata": {},
     "output_type": "execute_result"
    },
    {
     "data": {
      "image/png": "[encoded data removed]",
      "text/plain": [
       "<Figure size 432x288 with 1 Axes>"
      ]
     },
     "metadata": {
      "needs_background": "light"
     },
     "output_type": "display_data"
    }
   ],
   "source": [
    "sns.distplot(data.coverage[data.coverage<100])"
   ]
  },
  {
   "cell_type": "markdown",
   "metadata": {},
   "source": [
    "Сделаю еще трешхолд на покрытие 50:"
   ]
  },
  {
   "cell_type": "code",
   "execution_count": 10,
   "metadata": {},
   "outputs": [
    {
     "name": "stdout",
     "output_type": "stream",
     "text": [
      "Хорошо экспрессируется 76.41032837496492% генов;\n",
      "Количественно: 5445 из 7126\n"
     ]
    }
   ],
   "source": [
    "good_fpkm = 5\n",
    "good_cov = 50\n",
    "print(f'Хорошо экспрессируется {data[(data.fpkm > good_fpkm) & (data.coverage > good_cov)].shape[0]/data.shape[0]*100}% генов;\\nКоличественно: {data[(data.fpkm > good_fpkm) & (data.coverage > good_cov)].shape[0]} из {data.shape[0]}')"
   ]
  },
  {
   "cell_type": "markdown",
   "metadata": {},
   "source": [
    "Поменьше, но больше, чем выдал quast.\n",
    "\n",
    "\n",
    "\n",
    "...the end..."
   ]
  }
 ],
 "metadata": {
  "kernelspec": {
   "display_name": "Python 3",
   "language": "python",
   "name": "python3"
  },
  "language_info": {
   "codemirror_mode": {
    "name": "ipython",
    "version": 3
   },
   "file_extension": ".py",
   "mimetype": "text/x-python",
   "name": "python",
   "nbconvert_exporter": "python",
   "pygments_lexer": "ipython3",
   "version": "3.7.6"
  }
 },
 "nbformat": 4,
 "nbformat_minor": 4
}
